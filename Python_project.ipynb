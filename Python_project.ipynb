{
  "nbformat": 4,
  "nbformat_minor": 0,
  "metadata": {
    "colab": {
      "provenance": [],
      "toc_visible": true,
      "authorship_tag": "ABX9TyPdw5XJUN8pwXi1zmCjKPLw",
      "include_colab_link": true
    },
    "kernelspec": {
      "name": "python3",
      "display_name": "Python 3"
    },
    "language_info": {
      "name": "python"
    }
  },
  "cells": [
    {
      "cell_type": "markdown",
      "metadata": {
        "id": "view-in-github",
        "colab_type": "text"
      },
      "source": [
        "<a href=\"https://colab.research.google.com/github/Mustafahmad/python-projects/blob/main/Python_project.ipynb\" target=\"_parent\"><img src=\"https://colab.research.google.com/assets/colab-badge.svg\" alt=\"Open In Colab\"/></a>"
      ]
    },
    {
      "cell_type": "markdown",
      "source": [
        "# Import libraries"
      ],
      "metadata": {
        "id": "GuMXR_V_FCDQ"
      }
    },
    {
      "cell_type": "code",
      "execution_count": null,
      "metadata": {
        "id": "iASSURDbBw_7"
      },
      "outputs": [],
      "source": [
        "import pandas as pd\n",
        "import datetime\n",
        "import matplotlib.pyplot as plt\n",
        "import numpy as np\n",
        "from tensorflow.keras.models import Sequential\n",
        "from tensorflow.keras.optimizers import Adam\n",
        "from tensorflow.keras import layers\n",
        "from copy import deepcopy"
      ]
    },
    {
      "cell_type": "markdown",
      "source": [
        "\n",
        "\n",
        "# Import Dataset\n",
        "\n"
      ],
      "metadata": {
        "id": "MbjhQMGcEICQ"
      }
    },
    {
      "cell_type": "code",
      "source": [
        "df = pd.read_csv('/content/MSFT.csv')\n",
        "df"
      ],
      "metadata": {
        "id": "jozGW-m8F31Z",
        "colab": {
          "base_uri": "https://localhost:8080/",
          "height": 424
        },
        "outputId": "81c4f598-d14f-493e-8994-533aefc6c751"
      },
      "execution_count": null,
      "outputs": [
        {
          "output_type": "execute_result",
          "data": {
            "text/plain": [
              "            Date        Open        High         Low       Close   Adj Close  \\\n",
              "0     1989-01-13    0.364583    0.369792    0.364583    0.368056    0.229630   \n",
              "1     1989-01-16    0.369792    0.375868    0.366319    0.368924    0.230171   \n",
              "2     1989-01-17    0.365451    0.367188    0.355903    0.357639    0.223130   \n",
              "3     1989-01-18    0.359375    0.359375    0.348958    0.357639    0.223130   \n",
              "4     1989-01-19    0.362847    0.373264    0.362847    0.371528    0.231796   \n",
              "...          ...         ...         ...         ...         ...         ...   \n",
              "8645  2023-05-08  310.130005  310.200012  306.089996  308.649994  308.649994   \n",
              "8646  2023-05-09  308.000000  310.040009  306.309998  307.000000  307.000000   \n",
              "8647  2023-05-10  308.619995  313.000000  307.670013  312.309998  312.309998   \n",
              "8648  2023-05-11  310.100006  311.119995  306.260010  310.109985  310.109985   \n",
              "8649  2023-05-12  310.549988  310.649994  306.600006  308.970001  308.970001   \n",
              "\n",
              "        Volume  \n",
              "0     35568000  \n",
              "1     27532800  \n",
              "2     41745600  \n",
              "3     63633600  \n",
              "4     84297600  \n",
              "...        ...  \n",
              "8645  21318600  \n",
              "8646  21340800  \n",
              "8647  30078000  \n",
              "8648  31680200  \n",
              "8649  19758100  \n",
              "\n",
              "[8650 rows x 7 columns]"
            ],
            "text/html": [
              "\n",
              "  <div id=\"df-633a1030-fda8-4e40-9d8a-f5ffd1ad1697\">\n",
              "    <div class=\"colab-df-container\">\n",
              "      <div>\n",
              "<style scoped>\n",
              "    .dataframe tbody tr th:only-of-type {\n",
              "        vertical-align: middle;\n",
              "    }\n",
              "\n",
              "    .dataframe tbody tr th {\n",
              "        vertical-align: top;\n",
              "    }\n",
              "\n",
              "    .dataframe thead th {\n",
              "        text-align: right;\n",
              "    }\n",
              "</style>\n",
              "<table border=\"1\" class=\"dataframe\">\n",
              "  <thead>\n",
              "    <tr style=\"text-align: right;\">\n",
              "      <th></th>\n",
              "      <th>Date</th>\n",
              "      <th>Open</th>\n",
              "      <th>High</th>\n",
              "      <th>Low</th>\n",
              "      <th>Close</th>\n",
              "      <th>Adj Close</th>\n",
              "      <th>Volume</th>\n",
              "    </tr>\n",
              "  </thead>\n",
              "  <tbody>\n",
              "    <tr>\n",
              "      <th>0</th>\n",
              "      <td>1989-01-13</td>\n",
              "      <td>0.364583</td>\n",
              "      <td>0.369792</td>\n",
              "      <td>0.364583</td>\n",
              "      <td>0.368056</td>\n",
              "      <td>0.229630</td>\n",
              "      <td>35568000</td>\n",
              "    </tr>\n",
              "    <tr>\n",
              "      <th>1</th>\n",
              "      <td>1989-01-16</td>\n",
              "      <td>0.369792</td>\n",
              "      <td>0.375868</td>\n",
              "      <td>0.366319</td>\n",
              "      <td>0.368924</td>\n",
              "      <td>0.230171</td>\n",
              "      <td>27532800</td>\n",
              "    </tr>\n",
              "    <tr>\n",
              "      <th>2</th>\n",
              "      <td>1989-01-17</td>\n",
              "      <td>0.365451</td>\n",
              "      <td>0.367188</td>\n",
              "      <td>0.355903</td>\n",
              "      <td>0.357639</td>\n",
              "      <td>0.223130</td>\n",
              "      <td>41745600</td>\n",
              "    </tr>\n",
              "    <tr>\n",
              "      <th>3</th>\n",
              "      <td>1989-01-18</td>\n",
              "      <td>0.359375</td>\n",
              "      <td>0.359375</td>\n",
              "      <td>0.348958</td>\n",
              "      <td>0.357639</td>\n",
              "      <td>0.223130</td>\n",
              "      <td>63633600</td>\n",
              "    </tr>\n",
              "    <tr>\n",
              "      <th>4</th>\n",
              "      <td>1989-01-19</td>\n",
              "      <td>0.362847</td>\n",
              "      <td>0.373264</td>\n",
              "      <td>0.362847</td>\n",
              "      <td>0.371528</td>\n",
              "      <td>0.231796</td>\n",
              "      <td>84297600</td>\n",
              "    </tr>\n",
              "    <tr>\n",
              "      <th>...</th>\n",
              "      <td>...</td>\n",
              "      <td>...</td>\n",
              "      <td>...</td>\n",
              "      <td>...</td>\n",
              "      <td>...</td>\n",
              "      <td>...</td>\n",
              "      <td>...</td>\n",
              "    </tr>\n",
              "    <tr>\n",
              "      <th>8645</th>\n",
              "      <td>2023-05-08</td>\n",
              "      <td>310.130005</td>\n",
              "      <td>310.200012</td>\n",
              "      <td>306.089996</td>\n",
              "      <td>308.649994</td>\n",
              "      <td>308.649994</td>\n",
              "      <td>21318600</td>\n",
              "    </tr>\n",
              "    <tr>\n",
              "      <th>8646</th>\n",
              "      <td>2023-05-09</td>\n",
              "      <td>308.000000</td>\n",
              "      <td>310.040009</td>\n",
              "      <td>306.309998</td>\n",
              "      <td>307.000000</td>\n",
              "      <td>307.000000</td>\n",
              "      <td>21340800</td>\n",
              "    </tr>\n",
              "    <tr>\n",
              "      <th>8647</th>\n",
              "      <td>2023-05-10</td>\n",
              "      <td>308.619995</td>\n",
              "      <td>313.000000</td>\n",
              "      <td>307.670013</td>\n",
              "      <td>312.309998</td>\n",
              "      <td>312.309998</td>\n",
              "      <td>30078000</td>\n",
              "    </tr>\n",
              "    <tr>\n",
              "      <th>8648</th>\n",
              "      <td>2023-05-11</td>\n",
              "      <td>310.100006</td>\n",
              "      <td>311.119995</td>\n",
              "      <td>306.260010</td>\n",
              "      <td>310.109985</td>\n",
              "      <td>310.109985</td>\n",
              "      <td>31680200</td>\n",
              "    </tr>\n",
              "    <tr>\n",
              "      <th>8649</th>\n",
              "      <td>2023-05-12</td>\n",
              "      <td>310.549988</td>\n",
              "      <td>310.649994</td>\n",
              "      <td>306.600006</td>\n",
              "      <td>308.970001</td>\n",
              "      <td>308.970001</td>\n",
              "      <td>19758100</td>\n",
              "    </tr>\n",
              "  </tbody>\n",
              "</table>\n",
              "<p>8650 rows × 7 columns</p>\n",
              "</div>\n",
              "      <button class=\"colab-df-convert\" onclick=\"convertToInteractive('df-633a1030-fda8-4e40-9d8a-f5ffd1ad1697')\"\n",
              "              title=\"Convert this dataframe to an interactive table.\"\n",
              "              style=\"display:none;\">\n",
              "        \n",
              "  <svg xmlns=\"http://www.w3.org/2000/svg\" height=\"24px\"viewBox=\"0 0 24 24\"\n",
              "       width=\"24px\">\n",
              "    <path d=\"M0 0h24v24H0V0z\" fill=\"none\"/>\n",
              "    <path d=\"M18.56 5.44l.94 2.06.94-2.06 2.06-.94-2.06-.94-.94-2.06-.94 2.06-2.06.94zm-11 1L8.5 8.5l.94-2.06 2.06-.94-2.06-.94L8.5 2.5l-.94 2.06-2.06.94zm10 10l.94 2.06.94-2.06 2.06-.94-2.06-.94-.94-2.06-.94 2.06-2.06.94z\"/><path d=\"M17.41 7.96l-1.37-1.37c-.4-.4-.92-.59-1.43-.59-.52 0-1.04.2-1.43.59L10.3 9.45l-7.72 7.72c-.78.78-.78 2.05 0 2.83L4 21.41c.39.39.9.59 1.41.59.51 0 1.02-.2 1.41-.59l7.78-7.78 2.81-2.81c.8-.78.8-2.07 0-2.86zM5.41 20L4 18.59l7.72-7.72 1.47 1.35L5.41 20z\"/>\n",
              "  </svg>\n",
              "      </button>\n",
              "      \n",
              "  <style>\n",
              "    .colab-df-container {\n",
              "      display:flex;\n",
              "      flex-wrap:wrap;\n",
              "      gap: 12px;\n",
              "    }\n",
              "\n",
              "    .colab-df-convert {\n",
              "      background-color: #E8F0FE;\n",
              "      border: none;\n",
              "      border-radius: 50%;\n",
              "      cursor: pointer;\n",
              "      display: none;\n",
              "      fill: #1967D2;\n",
              "      height: 32px;\n",
              "      padding: 0 0 0 0;\n",
              "      width: 32px;\n",
              "    }\n",
              "\n",
              "    .colab-df-convert:hover {\n",
              "      background-color: #E2EBFA;\n",
              "      box-shadow: 0px 1px 2px rgba(60, 64, 67, 0.3), 0px 1px 3px 1px rgba(60, 64, 67, 0.15);\n",
              "      fill: #174EA6;\n",
              "    }\n",
              "\n",
              "    [theme=dark] .colab-df-convert {\n",
              "      background-color: #3B4455;\n",
              "      fill: #D2E3FC;\n",
              "    }\n",
              "\n",
              "    [theme=dark] .colab-df-convert:hover {\n",
              "      background-color: #434B5C;\n",
              "      box-shadow: 0px 1px 3px 1px rgba(0, 0, 0, 0.15);\n",
              "      filter: drop-shadow(0px 1px 2px rgba(0, 0, 0, 0.3));\n",
              "      fill: #FFFFFF;\n",
              "    }\n",
              "  </style>\n",
              "\n",
              "      <script>\n",
              "        const buttonEl =\n",
              "          document.querySelector('#df-633a1030-fda8-4e40-9d8a-f5ffd1ad1697 button.colab-df-convert');\n",
              "        buttonEl.style.display =\n",
              "          google.colab.kernel.accessAllowed ? 'block' : 'none';\n",
              "\n",
              "        async function convertToInteractive(key) {\n",
              "          const element = document.querySelector('#df-633a1030-fda8-4e40-9d8a-f5ffd1ad1697');\n",
              "          const dataTable =\n",
              "            await google.colab.kernel.invokeFunction('convertToInteractive',\n",
              "                                                     [key], {});\n",
              "          if (!dataTable) return;\n",
              "\n",
              "          const docLinkHtml = 'Like what you see? Visit the ' +\n",
              "            '<a target=\"_blank\" href=https://colab.research.google.com/notebooks/data_table.ipynb>data table notebook</a>'\n",
              "            + ' to learn more about interactive tables.';\n",
              "          element.innerHTML = '';\n",
              "          dataTable['output_type'] = 'display_data';\n",
              "          await google.colab.output.renderOutput(dataTable, element);\n",
              "          const docLink = document.createElement('div');\n",
              "          docLink.innerHTML = docLinkHtml;\n",
              "          element.appendChild(docLink);\n",
              "        }\n",
              "      </script>\n",
              "    </div>\n",
              "  </div>\n",
              "  "
            ]
          },
          "metadata": {},
          "execution_count": 40
        }
      ]
    },
    {
      "cell_type": "markdown",
      "source": [
        "# Show First five rows and last five rows"
      ],
      "metadata": {
        "id": "7Fs44DLrGBJM"
      }
    },
    {
      "cell_type": "code",
      "source": [
        "df.head()"
      ],
      "metadata": {
        "colab": {
          "base_uri": "https://localhost:8080/",
          "height": 206
        },
        "id": "RU9cMqDJGPIc",
        "outputId": "fd9761d1-e81c-44d5-ea60-8554a16b7151"
      },
      "execution_count": null,
      "outputs": [
        {
          "output_type": "execute_result",
          "data": {
            "text/plain": [
              "         Date      Open      High       Low     Close  Adj Close    Volume\n",
              "0  1989-01-13  0.364583  0.369792  0.364583  0.368056   0.229630  35568000\n",
              "1  1989-01-16  0.369792  0.375868  0.366319  0.368924   0.230171  27532800\n",
              "2  1989-01-17  0.365451  0.367188  0.355903  0.357639   0.223130  41745600\n",
              "3  1989-01-18  0.359375  0.359375  0.348958  0.357639   0.223130  63633600\n",
              "4  1989-01-19  0.362847  0.373264  0.362847  0.371528   0.231796  84297600"
            ],
            "text/html": [
              "\n",
              "  <div id=\"df-2799efa1-a03e-4fc6-81a3-69bb90c60aba\">\n",
              "    <div class=\"colab-df-container\">\n",
              "      <div>\n",
              "<style scoped>\n",
              "    .dataframe tbody tr th:only-of-type {\n",
              "        vertical-align: middle;\n",
              "    }\n",
              "\n",
              "    .dataframe tbody tr th {\n",
              "        vertical-align: top;\n",
              "    }\n",
              "\n",
              "    .dataframe thead th {\n",
              "        text-align: right;\n",
              "    }\n",
              "</style>\n",
              "<table border=\"1\" class=\"dataframe\">\n",
              "  <thead>\n",
              "    <tr style=\"text-align: right;\">\n",
              "      <th></th>\n",
              "      <th>Date</th>\n",
              "      <th>Open</th>\n",
              "      <th>High</th>\n",
              "      <th>Low</th>\n",
              "      <th>Close</th>\n",
              "      <th>Adj Close</th>\n",
              "      <th>Volume</th>\n",
              "    </tr>\n",
              "  </thead>\n",
              "  <tbody>\n",
              "    <tr>\n",
              "      <th>0</th>\n",
              "      <td>1989-01-13</td>\n",
              "      <td>0.364583</td>\n",
              "      <td>0.369792</td>\n",
              "      <td>0.364583</td>\n",
              "      <td>0.368056</td>\n",
              "      <td>0.229630</td>\n",
              "      <td>35568000</td>\n",
              "    </tr>\n",
              "    <tr>\n",
              "      <th>1</th>\n",
              "      <td>1989-01-16</td>\n",
              "      <td>0.369792</td>\n",
              "      <td>0.375868</td>\n",
              "      <td>0.366319</td>\n",
              "      <td>0.368924</td>\n",
              "      <td>0.230171</td>\n",
              "      <td>27532800</td>\n",
              "    </tr>\n",
              "    <tr>\n",
              "      <th>2</th>\n",
              "      <td>1989-01-17</td>\n",
              "      <td>0.365451</td>\n",
              "      <td>0.367188</td>\n",
              "      <td>0.355903</td>\n",
              "      <td>0.357639</td>\n",
              "      <td>0.223130</td>\n",
              "      <td>41745600</td>\n",
              "    </tr>\n",
              "    <tr>\n",
              "      <th>3</th>\n",
              "      <td>1989-01-18</td>\n",
              "      <td>0.359375</td>\n",
              "      <td>0.359375</td>\n",
              "      <td>0.348958</td>\n",
              "      <td>0.357639</td>\n",
              "      <td>0.223130</td>\n",
              "      <td>63633600</td>\n",
              "    </tr>\n",
              "    <tr>\n",
              "      <th>4</th>\n",
              "      <td>1989-01-19</td>\n",
              "      <td>0.362847</td>\n",
              "      <td>0.373264</td>\n",
              "      <td>0.362847</td>\n",
              "      <td>0.371528</td>\n",
              "      <td>0.231796</td>\n",
              "      <td>84297600</td>\n",
              "    </tr>\n",
              "  </tbody>\n",
              "</table>\n",
              "</div>\n",
              "      <button class=\"colab-df-convert\" onclick=\"convertToInteractive('df-2799efa1-a03e-4fc6-81a3-69bb90c60aba')\"\n",
              "              title=\"Convert this dataframe to an interactive table.\"\n",
              "              style=\"display:none;\">\n",
              "        \n",
              "  <svg xmlns=\"http://www.w3.org/2000/svg\" height=\"24px\"viewBox=\"0 0 24 24\"\n",
              "       width=\"24px\">\n",
              "    <path d=\"M0 0h24v24H0V0z\" fill=\"none\"/>\n",
              "    <path d=\"M18.56 5.44l.94 2.06.94-2.06 2.06-.94-2.06-.94-.94-2.06-.94 2.06-2.06.94zm-11 1L8.5 8.5l.94-2.06 2.06-.94-2.06-.94L8.5 2.5l-.94 2.06-2.06.94zm10 10l.94 2.06.94-2.06 2.06-.94-2.06-.94-.94-2.06-.94 2.06-2.06.94z\"/><path d=\"M17.41 7.96l-1.37-1.37c-.4-.4-.92-.59-1.43-.59-.52 0-1.04.2-1.43.59L10.3 9.45l-7.72 7.72c-.78.78-.78 2.05 0 2.83L4 21.41c.39.39.9.59 1.41.59.51 0 1.02-.2 1.41-.59l7.78-7.78 2.81-2.81c.8-.78.8-2.07 0-2.86zM5.41 20L4 18.59l7.72-7.72 1.47 1.35L5.41 20z\"/>\n",
              "  </svg>\n",
              "      </button>\n",
              "      \n",
              "  <style>\n",
              "    .colab-df-container {\n",
              "      display:flex;\n",
              "      flex-wrap:wrap;\n",
              "      gap: 12px;\n",
              "    }\n",
              "\n",
              "    .colab-df-convert {\n",
              "      background-color: #E8F0FE;\n",
              "      border: none;\n",
              "      border-radius: 50%;\n",
              "      cursor: pointer;\n",
              "      display: none;\n",
              "      fill: #1967D2;\n",
              "      height: 32px;\n",
              "      padding: 0 0 0 0;\n",
              "      width: 32px;\n",
              "    }\n",
              "\n",
              "    .colab-df-convert:hover {\n",
              "      background-color: #E2EBFA;\n",
              "      box-shadow: 0px 1px 2px rgba(60, 64, 67, 0.3), 0px 1px 3px 1px rgba(60, 64, 67, 0.15);\n",
              "      fill: #174EA6;\n",
              "    }\n",
              "\n",
              "    [theme=dark] .colab-df-convert {\n",
              "      background-color: #3B4455;\n",
              "      fill: #D2E3FC;\n",
              "    }\n",
              "\n",
              "    [theme=dark] .colab-df-convert:hover {\n",
              "      background-color: #434B5C;\n",
              "      box-shadow: 0px 1px 3px 1px rgba(0, 0, 0, 0.15);\n",
              "      filter: drop-shadow(0px 1px 2px rgba(0, 0, 0, 0.3));\n",
              "      fill: #FFFFFF;\n",
              "    }\n",
              "  </style>\n",
              "\n",
              "      <script>\n",
              "        const buttonEl =\n",
              "          document.querySelector('#df-2799efa1-a03e-4fc6-81a3-69bb90c60aba button.colab-df-convert');\n",
              "        buttonEl.style.display =\n",
              "          google.colab.kernel.accessAllowed ? 'block' : 'none';\n",
              "\n",
              "        async function convertToInteractive(key) {\n",
              "          const element = document.querySelector('#df-2799efa1-a03e-4fc6-81a3-69bb90c60aba');\n",
              "          const dataTable =\n",
              "            await google.colab.kernel.invokeFunction('convertToInteractive',\n",
              "                                                     [key], {});\n",
              "          if (!dataTable) return;\n",
              "\n",
              "          const docLinkHtml = 'Like what you see? Visit the ' +\n",
              "            '<a target=\"_blank\" href=https://colab.research.google.com/notebooks/data_table.ipynb>data table notebook</a>'\n",
              "            + ' to learn more about interactive tables.';\n",
              "          element.innerHTML = '';\n",
              "          dataTable['output_type'] = 'display_data';\n",
              "          await google.colab.output.renderOutput(dataTable, element);\n",
              "          const docLink = document.createElement('div');\n",
              "          docLink.innerHTML = docLinkHtml;\n",
              "          element.appendChild(docLink);\n",
              "        }\n",
              "      </script>\n",
              "    </div>\n",
              "  </div>\n",
              "  "
            ]
          },
          "metadata": {},
          "execution_count": 37
        }
      ]
    },
    {
      "cell_type": "markdown",
      "source": [
        "it shows the first five values of dataset"
      ],
      "metadata": {
        "id": "UXm7uHhDNsPX"
      }
    },
    {
      "cell_type": "code",
      "source": [
        "df.tail()"
      ],
      "metadata": {
        "colab": {
          "base_uri": "https://localhost:8080/",
          "height": 206
        },
        "id": "_7Q6C04hGU8U",
        "outputId": "1b38fd37-9ac5-40ed-d725-64303e3b3368"
      },
      "execution_count": null,
      "outputs": [
        {
          "output_type": "execute_result",
          "data": {
            "text/plain": [
              "            Date        Open        High         Low       Close   Adj Close  \\\n",
              "8645  2023-05-08  310.130005  310.200012  306.089996  308.649994  308.649994   \n",
              "8646  2023-05-09  308.000000  310.040009  306.309998  307.000000  307.000000   \n",
              "8647  2023-05-10  308.619995  313.000000  307.670013  312.309998  312.309998   \n",
              "8648  2023-05-11  310.100006  311.119995  306.260010  310.109985  310.109985   \n",
              "8649  2023-05-12  310.549988  310.649994  306.600006  308.970001  308.970001   \n",
              "\n",
              "        Volume  \n",
              "8645  21318600  \n",
              "8646  21340800  \n",
              "8647  30078000  \n",
              "8648  31680200  \n",
              "8649  19758100  "
            ],
            "text/html": [
              "\n",
              "  <div id=\"df-b5f220cf-90a0-40cc-961b-1d73072de421\">\n",
              "    <div class=\"colab-df-container\">\n",
              "      <div>\n",
              "<style scoped>\n",
              "    .dataframe tbody tr th:only-of-type {\n",
              "        vertical-align: middle;\n",
              "    }\n",
              "\n",
              "    .dataframe tbody tr th {\n",
              "        vertical-align: top;\n",
              "    }\n",
              "\n",
              "    .dataframe thead th {\n",
              "        text-align: right;\n",
              "    }\n",
              "</style>\n",
              "<table border=\"1\" class=\"dataframe\">\n",
              "  <thead>\n",
              "    <tr style=\"text-align: right;\">\n",
              "      <th></th>\n",
              "      <th>Date</th>\n",
              "      <th>Open</th>\n",
              "      <th>High</th>\n",
              "      <th>Low</th>\n",
              "      <th>Close</th>\n",
              "      <th>Adj Close</th>\n",
              "      <th>Volume</th>\n",
              "    </tr>\n",
              "  </thead>\n",
              "  <tbody>\n",
              "    <tr>\n",
              "      <th>8645</th>\n",
              "      <td>2023-05-08</td>\n",
              "      <td>310.130005</td>\n",
              "      <td>310.200012</td>\n",
              "      <td>306.089996</td>\n",
              "      <td>308.649994</td>\n",
              "      <td>308.649994</td>\n",
              "      <td>21318600</td>\n",
              "    </tr>\n",
              "    <tr>\n",
              "      <th>8646</th>\n",
              "      <td>2023-05-09</td>\n",
              "      <td>308.000000</td>\n",
              "      <td>310.040009</td>\n",
              "      <td>306.309998</td>\n",
              "      <td>307.000000</td>\n",
              "      <td>307.000000</td>\n",
              "      <td>21340800</td>\n",
              "    </tr>\n",
              "    <tr>\n",
              "      <th>8647</th>\n",
              "      <td>2023-05-10</td>\n",
              "      <td>308.619995</td>\n",
              "      <td>313.000000</td>\n",
              "      <td>307.670013</td>\n",
              "      <td>312.309998</td>\n",
              "      <td>312.309998</td>\n",
              "      <td>30078000</td>\n",
              "    </tr>\n",
              "    <tr>\n",
              "      <th>8648</th>\n",
              "      <td>2023-05-11</td>\n",
              "      <td>310.100006</td>\n",
              "      <td>311.119995</td>\n",
              "      <td>306.260010</td>\n",
              "      <td>310.109985</td>\n",
              "      <td>310.109985</td>\n",
              "      <td>31680200</td>\n",
              "    </tr>\n",
              "    <tr>\n",
              "      <th>8649</th>\n",
              "      <td>2023-05-12</td>\n",
              "      <td>310.549988</td>\n",
              "      <td>310.649994</td>\n",
              "      <td>306.600006</td>\n",
              "      <td>308.970001</td>\n",
              "      <td>308.970001</td>\n",
              "      <td>19758100</td>\n",
              "    </tr>\n",
              "  </tbody>\n",
              "</table>\n",
              "</div>\n",
              "      <button class=\"colab-df-convert\" onclick=\"convertToInteractive('df-b5f220cf-90a0-40cc-961b-1d73072de421')\"\n",
              "              title=\"Convert this dataframe to an interactive table.\"\n",
              "              style=\"display:none;\">\n",
              "        \n",
              "  <svg xmlns=\"http://www.w3.org/2000/svg\" height=\"24px\"viewBox=\"0 0 24 24\"\n",
              "       width=\"24px\">\n",
              "    <path d=\"M0 0h24v24H0V0z\" fill=\"none\"/>\n",
              "    <path d=\"M18.56 5.44l.94 2.06.94-2.06 2.06-.94-2.06-.94-.94-2.06-.94 2.06-2.06.94zm-11 1L8.5 8.5l.94-2.06 2.06-.94-2.06-.94L8.5 2.5l-.94 2.06-2.06.94zm10 10l.94 2.06.94-2.06 2.06-.94-2.06-.94-.94-2.06-.94 2.06-2.06.94z\"/><path d=\"M17.41 7.96l-1.37-1.37c-.4-.4-.92-.59-1.43-.59-.52 0-1.04.2-1.43.59L10.3 9.45l-7.72 7.72c-.78.78-.78 2.05 0 2.83L4 21.41c.39.39.9.59 1.41.59.51 0 1.02-.2 1.41-.59l7.78-7.78 2.81-2.81c.8-.78.8-2.07 0-2.86zM5.41 20L4 18.59l7.72-7.72 1.47 1.35L5.41 20z\"/>\n",
              "  </svg>\n",
              "      </button>\n",
              "      \n",
              "  <style>\n",
              "    .colab-df-container {\n",
              "      display:flex;\n",
              "      flex-wrap:wrap;\n",
              "      gap: 12px;\n",
              "    }\n",
              "\n",
              "    .colab-df-convert {\n",
              "      background-color: #E8F0FE;\n",
              "      border: none;\n",
              "      border-radius: 50%;\n",
              "      cursor: pointer;\n",
              "      display: none;\n",
              "      fill: #1967D2;\n",
              "      height: 32px;\n",
              "      padding: 0 0 0 0;\n",
              "      width: 32px;\n",
              "    }\n",
              "\n",
              "    .colab-df-convert:hover {\n",
              "      background-color: #E2EBFA;\n",
              "      box-shadow: 0px 1px 2px rgba(60, 64, 67, 0.3), 0px 1px 3px 1px rgba(60, 64, 67, 0.15);\n",
              "      fill: #174EA6;\n",
              "    }\n",
              "\n",
              "    [theme=dark] .colab-df-convert {\n",
              "      background-color: #3B4455;\n",
              "      fill: #D2E3FC;\n",
              "    }\n",
              "\n",
              "    [theme=dark] .colab-df-convert:hover {\n",
              "      background-color: #434B5C;\n",
              "      box-shadow: 0px 1px 3px 1px rgba(0, 0, 0, 0.15);\n",
              "      filter: drop-shadow(0px 1px 2px rgba(0, 0, 0, 0.3));\n",
              "      fill: #FFFFFF;\n",
              "    }\n",
              "  </style>\n",
              "\n",
              "      <script>\n",
              "        const buttonEl =\n",
              "          document.querySelector('#df-b5f220cf-90a0-40cc-961b-1d73072de421 button.colab-df-convert');\n",
              "        buttonEl.style.display =\n",
              "          google.colab.kernel.accessAllowed ? 'block' : 'none';\n",
              "\n",
              "        async function convertToInteractive(key) {\n",
              "          const element = document.querySelector('#df-b5f220cf-90a0-40cc-961b-1d73072de421');\n",
              "          const dataTable =\n",
              "            await google.colab.kernel.invokeFunction('convertToInteractive',\n",
              "                                                     [key], {});\n",
              "          if (!dataTable) return;\n",
              "\n",
              "          const docLinkHtml = 'Like what you see? Visit the ' +\n",
              "            '<a target=\"_blank\" href=https://colab.research.google.com/notebooks/data_table.ipynb>data table notebook</a>'\n",
              "            + ' to learn more about interactive tables.';\n",
              "          element.innerHTML = '';\n",
              "          dataTable['output_type'] = 'display_data';\n",
              "          await google.colab.output.renderOutput(dataTable, element);\n",
              "          const docLink = document.createElement('div');\n",
              "          docLink.innerHTML = docLinkHtml;\n",
              "          element.appendChild(docLink);\n",
              "        }\n",
              "      </script>\n",
              "    </div>\n",
              "  </div>\n",
              "  "
            ]
          },
          "metadata": {},
          "execution_count": 7
        }
      ]
    },
    {
      "cell_type": "markdown",
      "source": [
        "it shows the last five values of data"
      ],
      "metadata": {
        "id": "t18VaAGxNoji"
      }
    },
    {
      "cell_type": "markdown",
      "source": [
        "# Data description"
      ],
      "metadata": {
        "id": "2eMl5fYHHRfr"
      }
    },
    {
      "cell_type": "code",
      "source": [
        "df.shape"
      ],
      "metadata": {
        "colab": {
          "base_uri": "https://localhost:8080/"
        },
        "id": "XH5lUHBOHYFb",
        "outputId": "aa371a4e-9af0-48d4-8479-0557c7c82944"
      },
      "execution_count": null,
      "outputs": [
        {
          "output_type": "execute_result",
          "data": {
            "text/plain": [
              "(8650, 7)"
            ]
          },
          "metadata": {},
          "execution_count": 8
        }
      ]
    },
    {
      "cell_type": "markdown",
      "source": [
        "it shows there are 8650 rows and 7 columns"
      ],
      "metadata": {
        "id": "bXGvPg5qOB4O"
      }
    },
    {
      "cell_type": "code",
      "source": [
        "df.info()"
      ],
      "metadata": {
        "colab": {
          "base_uri": "https://localhost:8080/"
        },
        "id": "o6Wb0_AUHea9",
        "outputId": "65f41c71-85ab-45c6-be49-a15109ff08f2"
      },
      "execution_count": null,
      "outputs": [
        {
          "output_type": "stream",
          "name": "stdout",
          "text": [
            "<class 'pandas.core.frame.DataFrame'>\n",
            "RangeIndex: 8650 entries, 0 to 8649\n",
            "Data columns (total 7 columns):\n",
            " #   Column     Non-Null Count  Dtype  \n",
            "---  ------     --------------  -----  \n",
            " 0   Date       8650 non-null   object \n",
            " 1   Open       8650 non-null   float64\n",
            " 2   High       8650 non-null   float64\n",
            " 3   Low        8650 non-null   float64\n",
            " 4   Close      8650 non-null   float64\n",
            " 5   Adj Close  8650 non-null   float64\n",
            " 6   Volume     8650 non-null   int64  \n",
            "dtypes: float64(5), int64(1), object(1)\n",
            "memory usage: 473.2+ KB\n"
          ]
        }
      ]
    },
    {
      "cell_type": "markdown",
      "source": [
        "It shows all the columns and their datatypes"
      ],
      "metadata": {
        "id": "fGmy5abp3vNl"
      }
    },
    {
      "cell_type": "code",
      "source": [
        "df.describe()"
      ],
      "metadata": {
        "colab": {
          "base_uri": "https://localhost:8080/",
          "height": 300
        },
        "id": "gszJxk2CHlEE",
        "outputId": "eea21c82-aa91-47df-be25-7c89bcc561ae"
      },
      "execution_count": null,
      "outputs": [
        {
          "output_type": "execute_result",
          "data": {
            "text/plain": [
              "              Open         High          Low        Close    Adj Close  \\\n",
              "count  8650.000000  8650.000000  8650.000000  8650.000000  8650.000000   \n",
              "mean     52.010223    52.572664    51.436522    52.024915    46.276710   \n",
              "std      71.505907    72.249303    70.725466    71.529722    71.971274   \n",
              "min       0.322049     0.322917     0.317708     0.322917     0.201467   \n",
              "25%      16.257813    16.437500    16.066406    16.255859    10.193183   \n",
              "50%      27.811250    28.150000    27.530625    27.842500    19.942192   \n",
              "75%      46.189374    46.745000    45.657500    46.210938    37.676106   \n",
              "max     344.619995   349.670013   342.200012   343.109985   339.075562   \n",
              "\n",
              "             Volume  \n",
              "count  8.650000e+03  \n",
              "mean   5.697868e+07  \n",
              "std    3.527877e+07  \n",
              "min    3.705600e+06  \n",
              "25%    3.365130e+07  \n",
              "50%    5.077695e+07  \n",
              "75%    7.040760e+07  \n",
              "max    7.886880e+08  "
            ],
            "text/html": [
              "\n",
              "  <div id=\"df-afc87fde-1ae9-4e6b-b204-e30212e6119e\">\n",
              "    <div class=\"colab-df-container\">\n",
              "      <div>\n",
              "<style scoped>\n",
              "    .dataframe tbody tr th:only-of-type {\n",
              "        vertical-align: middle;\n",
              "    }\n",
              "\n",
              "    .dataframe tbody tr th {\n",
              "        vertical-align: top;\n",
              "    }\n",
              "\n",
              "    .dataframe thead th {\n",
              "        text-align: right;\n",
              "    }\n",
              "</style>\n",
              "<table border=\"1\" class=\"dataframe\">\n",
              "  <thead>\n",
              "    <tr style=\"text-align: right;\">\n",
              "      <th></th>\n",
              "      <th>Open</th>\n",
              "      <th>High</th>\n",
              "      <th>Low</th>\n",
              "      <th>Close</th>\n",
              "      <th>Adj Close</th>\n",
              "      <th>Volume</th>\n",
              "    </tr>\n",
              "  </thead>\n",
              "  <tbody>\n",
              "    <tr>\n",
              "      <th>count</th>\n",
              "      <td>8650.000000</td>\n",
              "      <td>8650.000000</td>\n",
              "      <td>8650.000000</td>\n",
              "      <td>8650.000000</td>\n",
              "      <td>8650.000000</td>\n",
              "      <td>8.650000e+03</td>\n",
              "    </tr>\n",
              "    <tr>\n",
              "      <th>mean</th>\n",
              "      <td>52.010223</td>\n",
              "      <td>52.572664</td>\n",
              "      <td>51.436522</td>\n",
              "      <td>52.024915</td>\n",
              "      <td>46.276710</td>\n",
              "      <td>5.697868e+07</td>\n",
              "    </tr>\n",
              "    <tr>\n",
              "      <th>std</th>\n",
              "      <td>71.505907</td>\n",
              "      <td>72.249303</td>\n",
              "      <td>70.725466</td>\n",
              "      <td>71.529722</td>\n",
              "      <td>71.971274</td>\n",
              "      <td>3.527877e+07</td>\n",
              "    </tr>\n",
              "    <tr>\n",
              "      <th>min</th>\n",
              "      <td>0.322049</td>\n",
              "      <td>0.322917</td>\n",
              "      <td>0.317708</td>\n",
              "      <td>0.322917</td>\n",
              "      <td>0.201467</td>\n",
              "      <td>3.705600e+06</td>\n",
              "    </tr>\n",
              "    <tr>\n",
              "      <th>25%</th>\n",
              "      <td>16.257813</td>\n",
              "      <td>16.437500</td>\n",
              "      <td>16.066406</td>\n",
              "      <td>16.255859</td>\n",
              "      <td>10.193183</td>\n",
              "      <td>3.365130e+07</td>\n",
              "    </tr>\n",
              "    <tr>\n",
              "      <th>50%</th>\n",
              "      <td>27.811250</td>\n",
              "      <td>28.150000</td>\n",
              "      <td>27.530625</td>\n",
              "      <td>27.842500</td>\n",
              "      <td>19.942192</td>\n",
              "      <td>5.077695e+07</td>\n",
              "    </tr>\n",
              "    <tr>\n",
              "      <th>75%</th>\n",
              "      <td>46.189374</td>\n",
              "      <td>46.745000</td>\n",
              "      <td>45.657500</td>\n",
              "      <td>46.210938</td>\n",
              "      <td>37.676106</td>\n",
              "      <td>7.040760e+07</td>\n",
              "    </tr>\n",
              "    <tr>\n",
              "      <th>max</th>\n",
              "      <td>344.619995</td>\n",
              "      <td>349.670013</td>\n",
              "      <td>342.200012</td>\n",
              "      <td>343.109985</td>\n",
              "      <td>339.075562</td>\n",
              "      <td>7.886880e+08</td>\n",
              "    </tr>\n",
              "  </tbody>\n",
              "</table>\n",
              "</div>\n",
              "      <button class=\"colab-df-convert\" onclick=\"convertToInteractive('df-afc87fde-1ae9-4e6b-b204-e30212e6119e')\"\n",
              "              title=\"Convert this dataframe to an interactive table.\"\n",
              "              style=\"display:none;\">\n",
              "        \n",
              "  <svg xmlns=\"http://www.w3.org/2000/svg\" height=\"24px\"viewBox=\"0 0 24 24\"\n",
              "       width=\"24px\">\n",
              "    <path d=\"M0 0h24v24H0V0z\" fill=\"none\"/>\n",
              "    <path d=\"M18.56 5.44l.94 2.06.94-2.06 2.06-.94-2.06-.94-.94-2.06-.94 2.06-2.06.94zm-11 1L8.5 8.5l.94-2.06 2.06-.94-2.06-.94L8.5 2.5l-.94 2.06-2.06.94zm10 10l.94 2.06.94-2.06 2.06-.94-2.06-.94-.94-2.06-.94 2.06-2.06.94z\"/><path d=\"M17.41 7.96l-1.37-1.37c-.4-.4-.92-.59-1.43-.59-.52 0-1.04.2-1.43.59L10.3 9.45l-7.72 7.72c-.78.78-.78 2.05 0 2.83L4 21.41c.39.39.9.59 1.41.59.51 0 1.02-.2 1.41-.59l7.78-7.78 2.81-2.81c.8-.78.8-2.07 0-2.86zM5.41 20L4 18.59l7.72-7.72 1.47 1.35L5.41 20z\"/>\n",
              "  </svg>\n",
              "      </button>\n",
              "      \n",
              "  <style>\n",
              "    .colab-df-container {\n",
              "      display:flex;\n",
              "      flex-wrap:wrap;\n",
              "      gap: 12px;\n",
              "    }\n",
              "\n",
              "    .colab-df-convert {\n",
              "      background-color: #E8F0FE;\n",
              "      border: none;\n",
              "      border-radius: 50%;\n",
              "      cursor: pointer;\n",
              "      display: none;\n",
              "      fill: #1967D2;\n",
              "      height: 32px;\n",
              "      padding: 0 0 0 0;\n",
              "      width: 32px;\n",
              "    }\n",
              "\n",
              "    .colab-df-convert:hover {\n",
              "      background-color: #E2EBFA;\n",
              "      box-shadow: 0px 1px 2px rgba(60, 64, 67, 0.3), 0px 1px 3px 1px rgba(60, 64, 67, 0.15);\n",
              "      fill: #174EA6;\n",
              "    }\n",
              "\n",
              "    [theme=dark] .colab-df-convert {\n",
              "      background-color: #3B4455;\n",
              "      fill: #D2E3FC;\n",
              "    }\n",
              "\n",
              "    [theme=dark] .colab-df-convert:hover {\n",
              "      background-color: #434B5C;\n",
              "      box-shadow: 0px 1px 3px 1px rgba(0, 0, 0, 0.15);\n",
              "      filter: drop-shadow(0px 1px 2px rgba(0, 0, 0, 0.3));\n",
              "      fill: #FFFFFF;\n",
              "    }\n",
              "  </style>\n",
              "\n",
              "      <script>\n",
              "        const buttonEl =\n",
              "          document.querySelector('#df-afc87fde-1ae9-4e6b-b204-e30212e6119e button.colab-df-convert');\n",
              "        buttonEl.style.display =\n",
              "          google.colab.kernel.accessAllowed ? 'block' : 'none';\n",
              "\n",
              "        async function convertToInteractive(key) {\n",
              "          const element = document.querySelector('#df-afc87fde-1ae9-4e6b-b204-e30212e6119e');\n",
              "          const dataTable =\n",
              "            await google.colab.kernel.invokeFunction('convertToInteractive',\n",
              "                                                     [key], {});\n",
              "          if (!dataTable) return;\n",
              "\n",
              "          const docLinkHtml = 'Like what you see? Visit the ' +\n",
              "            '<a target=\"_blank\" href=https://colab.research.google.com/notebooks/data_table.ipynb>data table notebook</a>'\n",
              "            + ' to learn more about interactive tables.';\n",
              "          element.innerHTML = '';\n",
              "          dataTable['output_type'] = 'display_data';\n",
              "          await google.colab.output.renderOutput(dataTable, element);\n",
              "          const docLink = document.createElement('div');\n",
              "          docLink.innerHTML = docLinkHtml;\n",
              "          element.appendChild(docLink);\n",
              "        }\n",
              "      </script>\n",
              "    </div>\n",
              "  </div>\n",
              "  "
            ]
          },
          "metadata": {},
          "execution_count": 10
        }
      ]
    },
    {
      "cell_type": "markdown",
      "source": [
        "This table shows count of all the data and their mean and their std."
      ],
      "metadata": {
        "id": "6HSYMIRL34jj"
      }
    },
    {
      "cell_type": "markdown",
      "source": [
        "# check the number of missing values in each column"
      ],
      "metadata": {
        "id": "5hYuY-fBHus-"
      }
    },
    {
      "cell_type": "code",
      "source": [
        "df.isnull().sum()"
      ],
      "metadata": {
        "colab": {
          "base_uri": "https://localhost:8080/"
        },
        "id": "rLlThStTHzhH",
        "outputId": "713d85c4-1191-4e3f-bbca-60a3fcd51f77"
      },
      "execution_count": null,
      "outputs": [
        {
          "output_type": "execute_result",
          "data": {
            "text/plain": [
              "Date         0\n",
              "Open         0\n",
              "High         0\n",
              "Low          0\n",
              "Close        0\n",
              "Adj Close    0\n",
              "Volume       0\n",
              "dtype: int64"
            ]
          },
          "metadata": {},
          "execution_count": 11
        }
      ]
    },
    {
      "cell_type": "markdown",
      "source": [
        "This shows that dataset has no null values."
      ],
      "metadata": {
        "id": "OES6we8R4Jk7"
      }
    },
    {
      "cell_type": "markdown",
      "source": [
        "# changing the datatype of data"
      ],
      "metadata": {
        "id": "00MkiG_lIMJY"
      }
    },
    {
      "cell_type": "code",
      "source": [
        "df = df[['Date', 'Close']]\n",
        "df"
      ],
      "metadata": {
        "colab": {
          "base_uri": "https://localhost:8080/",
          "height": 424
        },
        "id": "q_MoHipYIfZn",
        "outputId": "9eaad27e-0f5b-4c49-f907-89d8cdb2b731"
      },
      "execution_count": null,
      "outputs": [
        {
          "output_type": "execute_result",
          "data": {
            "text/plain": [
              "            Date       Close\n",
              "0     1989-01-13    0.368056\n",
              "1     1989-01-16    0.368924\n",
              "2     1989-01-17    0.357639\n",
              "3     1989-01-18    0.357639\n",
              "4     1989-01-19    0.371528\n",
              "...          ...         ...\n",
              "8645  2023-05-08  308.649994\n",
              "8646  2023-05-09  307.000000\n",
              "8647  2023-05-10  312.309998\n",
              "8648  2023-05-11  310.109985\n",
              "8649  2023-05-12  308.970001\n",
              "\n",
              "[8650 rows x 2 columns]"
            ],
            "text/html": [
              "\n",
              "  <div id=\"df-52565163-13f0-436d-922a-176506db2dd0\">\n",
              "    <div class=\"colab-df-container\">\n",
              "      <div>\n",
              "<style scoped>\n",
              "    .dataframe tbody tr th:only-of-type {\n",
              "        vertical-align: middle;\n",
              "    }\n",
              "\n",
              "    .dataframe tbody tr th {\n",
              "        vertical-align: top;\n",
              "    }\n",
              "\n",
              "    .dataframe thead th {\n",
              "        text-align: right;\n",
              "    }\n",
              "</style>\n",
              "<table border=\"1\" class=\"dataframe\">\n",
              "  <thead>\n",
              "    <tr style=\"text-align: right;\">\n",
              "      <th></th>\n",
              "      <th>Date</th>\n",
              "      <th>Close</th>\n",
              "    </tr>\n",
              "  </thead>\n",
              "  <tbody>\n",
              "    <tr>\n",
              "      <th>0</th>\n",
              "      <td>1989-01-13</td>\n",
              "      <td>0.368056</td>\n",
              "    </tr>\n",
              "    <tr>\n",
              "      <th>1</th>\n",
              "      <td>1989-01-16</td>\n",
              "      <td>0.368924</td>\n",
              "    </tr>\n",
              "    <tr>\n",
              "      <th>2</th>\n",
              "      <td>1989-01-17</td>\n",
              "      <td>0.357639</td>\n",
              "    </tr>\n",
              "    <tr>\n",
              "      <th>3</th>\n",
              "      <td>1989-01-18</td>\n",
              "      <td>0.357639</td>\n",
              "    </tr>\n",
              "    <tr>\n",
              "      <th>4</th>\n",
              "      <td>1989-01-19</td>\n",
              "      <td>0.371528</td>\n",
              "    </tr>\n",
              "    <tr>\n",
              "      <th>...</th>\n",
              "      <td>...</td>\n",
              "      <td>...</td>\n",
              "    </tr>\n",
              "    <tr>\n",
              "      <th>8645</th>\n",
              "      <td>2023-05-08</td>\n",
              "      <td>308.649994</td>\n",
              "    </tr>\n",
              "    <tr>\n",
              "      <th>8646</th>\n",
              "      <td>2023-05-09</td>\n",
              "      <td>307.000000</td>\n",
              "    </tr>\n",
              "    <tr>\n",
              "      <th>8647</th>\n",
              "      <td>2023-05-10</td>\n",
              "      <td>312.309998</td>\n",
              "    </tr>\n",
              "    <tr>\n",
              "      <th>8648</th>\n",
              "      <td>2023-05-11</td>\n",
              "      <td>310.109985</td>\n",
              "    </tr>\n",
              "    <tr>\n",
              "      <th>8649</th>\n",
              "      <td>2023-05-12</td>\n",
              "      <td>308.970001</td>\n",
              "    </tr>\n",
              "  </tbody>\n",
              "</table>\n",
              "<p>8650 rows × 2 columns</p>\n",
              "</div>\n",
              "      <button class=\"colab-df-convert\" onclick=\"convertToInteractive('df-52565163-13f0-436d-922a-176506db2dd0')\"\n",
              "              title=\"Convert this dataframe to an interactive table.\"\n",
              "              style=\"display:none;\">\n",
              "        \n",
              "  <svg xmlns=\"http://www.w3.org/2000/svg\" height=\"24px\"viewBox=\"0 0 24 24\"\n",
              "       width=\"24px\">\n",
              "    <path d=\"M0 0h24v24H0V0z\" fill=\"none\"/>\n",
              "    <path d=\"M18.56 5.44l.94 2.06.94-2.06 2.06-.94-2.06-.94-.94-2.06-.94 2.06-2.06.94zm-11 1L8.5 8.5l.94-2.06 2.06-.94-2.06-.94L8.5 2.5l-.94 2.06-2.06.94zm10 10l.94 2.06.94-2.06 2.06-.94-2.06-.94-.94-2.06-.94 2.06-2.06.94z\"/><path d=\"M17.41 7.96l-1.37-1.37c-.4-.4-.92-.59-1.43-.59-.52 0-1.04.2-1.43.59L10.3 9.45l-7.72 7.72c-.78.78-.78 2.05 0 2.83L4 21.41c.39.39.9.59 1.41.59.51 0 1.02-.2 1.41-.59l7.78-7.78 2.81-2.81c.8-.78.8-2.07 0-2.86zM5.41 20L4 18.59l7.72-7.72 1.47 1.35L5.41 20z\"/>\n",
              "  </svg>\n",
              "      </button>\n",
              "      \n",
              "  <style>\n",
              "    .colab-df-container {\n",
              "      display:flex;\n",
              "      flex-wrap:wrap;\n",
              "      gap: 12px;\n",
              "    }\n",
              "\n",
              "    .colab-df-convert {\n",
              "      background-color: #E8F0FE;\n",
              "      border: none;\n",
              "      border-radius: 50%;\n",
              "      cursor: pointer;\n",
              "      display: none;\n",
              "      fill: #1967D2;\n",
              "      height: 32px;\n",
              "      padding: 0 0 0 0;\n",
              "      width: 32px;\n",
              "    }\n",
              "\n",
              "    .colab-df-convert:hover {\n",
              "      background-color: #E2EBFA;\n",
              "      box-shadow: 0px 1px 2px rgba(60, 64, 67, 0.3), 0px 1px 3px 1px rgba(60, 64, 67, 0.15);\n",
              "      fill: #174EA6;\n",
              "    }\n",
              "\n",
              "    [theme=dark] .colab-df-convert {\n",
              "      background-color: #3B4455;\n",
              "      fill: #D2E3FC;\n",
              "    }\n",
              "\n",
              "    [theme=dark] .colab-df-convert:hover {\n",
              "      background-color: #434B5C;\n",
              "      box-shadow: 0px 1px 3px 1px rgba(0, 0, 0, 0.15);\n",
              "      filter: drop-shadow(0px 1px 2px rgba(0, 0, 0, 0.3));\n",
              "      fill: #FFFFFF;\n",
              "    }\n",
              "  </style>\n",
              "\n",
              "      <script>\n",
              "        const buttonEl =\n",
              "          document.querySelector('#df-52565163-13f0-436d-922a-176506db2dd0 button.colab-df-convert');\n",
              "        buttonEl.style.display =\n",
              "          google.colab.kernel.accessAllowed ? 'block' : 'none';\n",
              "\n",
              "        async function convertToInteractive(key) {\n",
              "          const element = document.querySelector('#df-52565163-13f0-436d-922a-176506db2dd0');\n",
              "          const dataTable =\n",
              "            await google.colab.kernel.invokeFunction('convertToInteractive',\n",
              "                                                     [key], {});\n",
              "          if (!dataTable) return;\n",
              "\n",
              "          const docLinkHtml = 'Like what you see? Visit the ' +\n",
              "            '<a target=\"_blank\" href=https://colab.research.google.com/notebooks/data_table.ipynb>data table notebook</a>'\n",
              "            + ' to learn more about interactive tables.';\n",
              "          element.innerHTML = '';\n",
              "          dataTable['output_type'] = 'display_data';\n",
              "          await google.colab.output.renderOutput(dataTable, element);\n",
              "          const docLink = document.createElement('div');\n",
              "          docLink.innerHTML = docLinkHtml;\n",
              "          element.appendChild(docLink);\n",
              "        }\n",
              "      </script>\n",
              "    </div>\n",
              "  </div>\n",
              "  "
            ]
          },
          "metadata": {},
          "execution_count": 12
        }
      ]
    },
    {
      "cell_type": "markdown",
      "source": [
        "it shows two columns from the dataset"
      ],
      "metadata": {
        "id": "IRxNopjF4kTC"
      }
    },
    {
      "cell_type": "code",
      "source": [
        "df['Date']"
      ],
      "metadata": {
        "colab": {
          "base_uri": "https://localhost:8080/"
        },
        "id": "A1vhvjTSIy36",
        "outputId": "34f2892a-f5fe-4bc7-cf82-7656cded4c0d"
      },
      "execution_count": null,
      "outputs": [
        {
          "output_type": "execute_result",
          "data": {
            "text/plain": [
              "0       1989-01-13\n",
              "1       1989-01-16\n",
              "2       1989-01-17\n",
              "3       1989-01-18\n",
              "4       1989-01-19\n",
              "           ...    \n",
              "8645    2023-05-08\n",
              "8646    2023-05-09\n",
              "8647    2023-05-10\n",
              "8648    2023-05-11\n",
              "8649    2023-05-12\n",
              "Name: Date, Length: 8650, dtype: object"
            ]
          },
          "metadata": {},
          "execution_count": 13
        }
      ]
    },
    {
      "cell_type": "code",
      "source": [
        "def str_to_datetime(s):\n",
        "  split = s.split('-')\n",
        "  year, month, day = int(split[0]), int(split[1]), int(split[2])\n",
        "  return datetime.datetime(year=year, month=month, day=day)\n",
        "\n",
        "datetime_object = str_to_datetime('2022-05-12')\n",
        "datetime_object"
      ],
      "metadata": {
        "colab": {
          "base_uri": "https://localhost:8080/"
        },
        "id": "7-3sBEQmI6Ie",
        "outputId": "a290b640-fc2a-4890-fb12-ae313cf746dd"
      },
      "execution_count": null,
      "outputs": [
        {
          "output_type": "execute_result",
          "data": {
            "text/plain": [
              "datetime.datetime(2022, 5, 12, 0, 0)"
            ]
          },
          "metadata": {},
          "execution_count": 14
        }
      ]
    },
    {
      "cell_type": "markdown",
      "source": [
        "Function to convert date into datetime datatype"
      ],
      "metadata": {
        "id": "sxc3KIk6KFbc"
      }
    },
    {
      "cell_type": "code",
      "source": [
        "df"
      ],
      "metadata": {
        "colab": {
          "base_uri": "https://localhost:8080/",
          "height": 424
        },
        "id": "wrKbbhWpLJol",
        "outputId": "90be90d1-abdf-48bc-b59d-46cbf34d7113"
      },
      "execution_count": null,
      "outputs": [
        {
          "output_type": "execute_result",
          "data": {
            "text/plain": [
              "            Date       Close\n",
              "0     1989-01-13    0.368056\n",
              "1     1989-01-16    0.368924\n",
              "2     1989-01-17    0.357639\n",
              "3     1989-01-18    0.357639\n",
              "4     1989-01-19    0.371528\n",
              "...          ...         ...\n",
              "8645  2023-05-08  308.649994\n",
              "8646  2023-05-09  307.000000\n",
              "8647  2023-05-10  312.309998\n",
              "8648  2023-05-11  310.109985\n",
              "8649  2023-05-12  308.970001\n",
              "\n",
              "[8650 rows x 2 columns]"
            ],
            "text/html": [
              "\n",
              "  <div id=\"df-c201867b-3b25-44eb-b17a-2dd0ca8eaecc\">\n",
              "    <div class=\"colab-df-container\">\n",
              "      <div>\n",
              "<style scoped>\n",
              "    .dataframe tbody tr th:only-of-type {\n",
              "        vertical-align: middle;\n",
              "    }\n",
              "\n",
              "    .dataframe tbody tr th {\n",
              "        vertical-align: top;\n",
              "    }\n",
              "\n",
              "    .dataframe thead th {\n",
              "        text-align: right;\n",
              "    }\n",
              "</style>\n",
              "<table border=\"1\" class=\"dataframe\">\n",
              "  <thead>\n",
              "    <tr style=\"text-align: right;\">\n",
              "      <th></th>\n",
              "      <th>Date</th>\n",
              "      <th>Close</th>\n",
              "    </tr>\n",
              "  </thead>\n",
              "  <tbody>\n",
              "    <tr>\n",
              "      <th>0</th>\n",
              "      <td>1989-01-13</td>\n",
              "      <td>0.368056</td>\n",
              "    </tr>\n",
              "    <tr>\n",
              "      <th>1</th>\n",
              "      <td>1989-01-16</td>\n",
              "      <td>0.368924</td>\n",
              "    </tr>\n",
              "    <tr>\n",
              "      <th>2</th>\n",
              "      <td>1989-01-17</td>\n",
              "      <td>0.357639</td>\n",
              "    </tr>\n",
              "    <tr>\n",
              "      <th>3</th>\n",
              "      <td>1989-01-18</td>\n",
              "      <td>0.357639</td>\n",
              "    </tr>\n",
              "    <tr>\n",
              "      <th>4</th>\n",
              "      <td>1989-01-19</td>\n",
              "      <td>0.371528</td>\n",
              "    </tr>\n",
              "    <tr>\n",
              "      <th>...</th>\n",
              "      <td>...</td>\n",
              "      <td>...</td>\n",
              "    </tr>\n",
              "    <tr>\n",
              "      <th>8645</th>\n",
              "      <td>2023-05-08</td>\n",
              "      <td>308.649994</td>\n",
              "    </tr>\n",
              "    <tr>\n",
              "      <th>8646</th>\n",
              "      <td>2023-05-09</td>\n",
              "      <td>307.000000</td>\n",
              "    </tr>\n",
              "    <tr>\n",
              "      <th>8647</th>\n",
              "      <td>2023-05-10</td>\n",
              "      <td>312.309998</td>\n",
              "    </tr>\n",
              "    <tr>\n",
              "      <th>8648</th>\n",
              "      <td>2023-05-11</td>\n",
              "      <td>310.109985</td>\n",
              "    </tr>\n",
              "    <tr>\n",
              "      <th>8649</th>\n",
              "      <td>2023-05-12</td>\n",
              "      <td>308.970001</td>\n",
              "    </tr>\n",
              "  </tbody>\n",
              "</table>\n",
              "<p>8650 rows × 2 columns</p>\n",
              "</div>\n",
              "      <button class=\"colab-df-convert\" onclick=\"convertToInteractive('df-c201867b-3b25-44eb-b17a-2dd0ca8eaecc')\"\n",
              "              title=\"Convert this dataframe to an interactive table.\"\n",
              "              style=\"display:none;\">\n",
              "        \n",
              "  <svg xmlns=\"http://www.w3.org/2000/svg\" height=\"24px\"viewBox=\"0 0 24 24\"\n",
              "       width=\"24px\">\n",
              "    <path d=\"M0 0h24v24H0V0z\" fill=\"none\"/>\n",
              "    <path d=\"M18.56 5.44l.94 2.06.94-2.06 2.06-.94-2.06-.94-.94-2.06-.94 2.06-2.06.94zm-11 1L8.5 8.5l.94-2.06 2.06-.94-2.06-.94L8.5 2.5l-.94 2.06-2.06.94zm10 10l.94 2.06.94-2.06 2.06-.94-2.06-.94-.94-2.06-.94 2.06-2.06.94z\"/><path d=\"M17.41 7.96l-1.37-1.37c-.4-.4-.92-.59-1.43-.59-.52 0-1.04.2-1.43.59L10.3 9.45l-7.72 7.72c-.78.78-.78 2.05 0 2.83L4 21.41c.39.39.9.59 1.41.59.51 0 1.02-.2 1.41-.59l7.78-7.78 2.81-2.81c.8-.78.8-2.07 0-2.86zM5.41 20L4 18.59l7.72-7.72 1.47 1.35L5.41 20z\"/>\n",
              "  </svg>\n",
              "      </button>\n",
              "      \n",
              "  <style>\n",
              "    .colab-df-container {\n",
              "      display:flex;\n",
              "      flex-wrap:wrap;\n",
              "      gap: 12px;\n",
              "    }\n",
              "\n",
              "    .colab-df-convert {\n",
              "      background-color: #E8F0FE;\n",
              "      border: none;\n",
              "      border-radius: 50%;\n",
              "      cursor: pointer;\n",
              "      display: none;\n",
              "      fill: #1967D2;\n",
              "      height: 32px;\n",
              "      padding: 0 0 0 0;\n",
              "      width: 32px;\n",
              "    }\n",
              "\n",
              "    .colab-df-convert:hover {\n",
              "      background-color: #E2EBFA;\n",
              "      box-shadow: 0px 1px 2px rgba(60, 64, 67, 0.3), 0px 1px 3px 1px rgba(60, 64, 67, 0.15);\n",
              "      fill: #174EA6;\n",
              "    }\n",
              "\n",
              "    [theme=dark] .colab-df-convert {\n",
              "      background-color: #3B4455;\n",
              "      fill: #D2E3FC;\n",
              "    }\n",
              "\n",
              "    [theme=dark] .colab-df-convert:hover {\n",
              "      background-color: #434B5C;\n",
              "      box-shadow: 0px 1px 3px 1px rgba(0, 0, 0, 0.15);\n",
              "      filter: drop-shadow(0px 1px 2px rgba(0, 0, 0, 0.3));\n",
              "      fill: #FFFFFF;\n",
              "    }\n",
              "  </style>\n",
              "\n",
              "      <script>\n",
              "        const buttonEl =\n",
              "          document.querySelector('#df-c201867b-3b25-44eb-b17a-2dd0ca8eaecc button.colab-df-convert');\n",
              "        buttonEl.style.display =\n",
              "          google.colab.kernel.accessAllowed ? 'block' : 'none';\n",
              "\n",
              "        async function convertToInteractive(key) {\n",
              "          const element = document.querySelector('#df-c201867b-3b25-44eb-b17a-2dd0ca8eaecc');\n",
              "          const dataTable =\n",
              "            await google.colab.kernel.invokeFunction('convertToInteractive',\n",
              "                                                     [key], {});\n",
              "          if (!dataTable) return;\n",
              "\n",
              "          const docLinkHtml = 'Like what you see? Visit the ' +\n",
              "            '<a target=\"_blank\" href=https://colab.research.google.com/notebooks/data_table.ipynb>data table notebook</a>'\n",
              "            + ' to learn more about interactive tables.';\n",
              "          element.innerHTML = '';\n",
              "          dataTable['output_type'] = 'display_data';\n",
              "          await google.colab.output.renderOutput(dataTable, element);\n",
              "          const docLink = document.createElement('div');\n",
              "          docLink.innerHTML = docLinkHtml;\n",
              "          element.appendChild(docLink);\n",
              "        }\n",
              "      </script>\n",
              "    </div>\n",
              "  </div>\n",
              "  "
            ]
          },
          "metadata": {},
          "execution_count": 15
        }
      ]
    },
    {
      "cell_type": "code",
      "source": [
        "df['Date'] = df['Date'].apply(str_to_datetime)\n",
        "df['Date']"
      ],
      "metadata": {
        "colab": {
          "base_uri": "https://localhost:8080/"
        },
        "id": "-FvvzRUHMExZ",
        "outputId": "754e1dfa-e2b4-460c-8944-a9b8e309bc1c"
      },
      "execution_count": null,
      "outputs": [
        {
          "output_type": "execute_result",
          "data": {
            "text/plain": [
              "0      1989-01-13\n",
              "1      1989-01-16\n",
              "2      1989-01-17\n",
              "3      1989-01-18\n",
              "4      1989-01-19\n",
              "          ...    \n",
              "8645   2023-05-08\n",
              "8646   2023-05-09\n",
              "8647   2023-05-10\n",
              "8648   2023-05-11\n",
              "8649   2023-05-12\n",
              "Name: Date, Length: 8650, dtype: datetime64[ns]"
            ]
          },
          "metadata": {},
          "execution_count": 16
        }
      ]
    },
    {
      "cell_type": "markdown",
      "source": [
        "Applying function on the dataset"
      ],
      "metadata": {
        "id": "R6kk1QF446AP"
      }
    },
    {
      "cell_type": "code",
      "source": [
        "df.index = df.pop('Date')\n",
        "df"
      ],
      "metadata": {
        "colab": {
          "base_uri": "https://localhost:8080/",
          "height": 455
        },
        "id": "SXMuj-vRMLEf",
        "outputId": "11fca4ea-84c6-4e20-9df4-8b69a5c07194"
      },
      "execution_count": null,
      "outputs": [
        {
          "output_type": "execute_result",
          "data": {
            "text/plain": [
              "                 Close\n",
              "Date                  \n",
              "1989-01-13    0.368056\n",
              "1989-01-16    0.368924\n",
              "1989-01-17    0.357639\n",
              "1989-01-18    0.357639\n",
              "1989-01-19    0.371528\n",
              "...                ...\n",
              "2023-05-08  308.649994\n",
              "2023-05-09  307.000000\n",
              "2023-05-10  312.309998\n",
              "2023-05-11  310.109985\n",
              "2023-05-12  308.970001\n",
              "\n",
              "[8650 rows x 1 columns]"
            ],
            "text/html": [
              "\n",
              "  <div id=\"df-23475d44-bbea-4639-a197-8b640dbe6838\">\n",
              "    <div class=\"colab-df-container\">\n",
              "      <div>\n",
              "<style scoped>\n",
              "    .dataframe tbody tr th:only-of-type {\n",
              "        vertical-align: middle;\n",
              "    }\n",
              "\n",
              "    .dataframe tbody tr th {\n",
              "        vertical-align: top;\n",
              "    }\n",
              "\n",
              "    .dataframe thead th {\n",
              "        text-align: right;\n",
              "    }\n",
              "</style>\n",
              "<table border=\"1\" class=\"dataframe\">\n",
              "  <thead>\n",
              "    <tr style=\"text-align: right;\">\n",
              "      <th></th>\n",
              "      <th>Close</th>\n",
              "    </tr>\n",
              "    <tr>\n",
              "      <th>Date</th>\n",
              "      <th></th>\n",
              "    </tr>\n",
              "  </thead>\n",
              "  <tbody>\n",
              "    <tr>\n",
              "      <th>1989-01-13</th>\n",
              "      <td>0.368056</td>\n",
              "    </tr>\n",
              "    <tr>\n",
              "      <th>1989-01-16</th>\n",
              "      <td>0.368924</td>\n",
              "    </tr>\n",
              "    <tr>\n",
              "      <th>1989-01-17</th>\n",
              "      <td>0.357639</td>\n",
              "    </tr>\n",
              "    <tr>\n",
              "      <th>1989-01-18</th>\n",
              "      <td>0.357639</td>\n",
              "    </tr>\n",
              "    <tr>\n",
              "      <th>1989-01-19</th>\n",
              "      <td>0.371528</td>\n",
              "    </tr>\n",
              "    <tr>\n",
              "      <th>...</th>\n",
              "      <td>...</td>\n",
              "    </tr>\n",
              "    <tr>\n",
              "      <th>2023-05-08</th>\n",
              "      <td>308.649994</td>\n",
              "    </tr>\n",
              "    <tr>\n",
              "      <th>2023-05-09</th>\n",
              "      <td>307.000000</td>\n",
              "    </tr>\n",
              "    <tr>\n",
              "      <th>2023-05-10</th>\n",
              "      <td>312.309998</td>\n",
              "    </tr>\n",
              "    <tr>\n",
              "      <th>2023-05-11</th>\n",
              "      <td>310.109985</td>\n",
              "    </tr>\n",
              "    <tr>\n",
              "      <th>2023-05-12</th>\n",
              "      <td>308.970001</td>\n",
              "    </tr>\n",
              "  </tbody>\n",
              "</table>\n",
              "<p>8650 rows × 1 columns</p>\n",
              "</div>\n",
              "      <button class=\"colab-df-convert\" onclick=\"convertToInteractive('df-23475d44-bbea-4639-a197-8b640dbe6838')\"\n",
              "              title=\"Convert this dataframe to an interactive table.\"\n",
              "              style=\"display:none;\">\n",
              "        \n",
              "  <svg xmlns=\"http://www.w3.org/2000/svg\" height=\"24px\"viewBox=\"0 0 24 24\"\n",
              "       width=\"24px\">\n",
              "    <path d=\"M0 0h24v24H0V0z\" fill=\"none\"/>\n",
              "    <path d=\"M18.56 5.44l.94 2.06.94-2.06 2.06-.94-2.06-.94-.94-2.06-.94 2.06-2.06.94zm-11 1L8.5 8.5l.94-2.06 2.06-.94-2.06-.94L8.5 2.5l-.94 2.06-2.06.94zm10 10l.94 2.06.94-2.06 2.06-.94-2.06-.94-.94-2.06-.94 2.06-2.06.94z\"/><path d=\"M17.41 7.96l-1.37-1.37c-.4-.4-.92-.59-1.43-.59-.52 0-1.04.2-1.43.59L10.3 9.45l-7.72 7.72c-.78.78-.78 2.05 0 2.83L4 21.41c.39.39.9.59 1.41.59.51 0 1.02-.2 1.41-.59l7.78-7.78 2.81-2.81c.8-.78.8-2.07 0-2.86zM5.41 20L4 18.59l7.72-7.72 1.47 1.35L5.41 20z\"/>\n",
              "  </svg>\n",
              "      </button>\n",
              "      \n",
              "  <style>\n",
              "    .colab-df-container {\n",
              "      display:flex;\n",
              "      flex-wrap:wrap;\n",
              "      gap: 12px;\n",
              "    }\n",
              "\n",
              "    .colab-df-convert {\n",
              "      background-color: #E8F0FE;\n",
              "      border: none;\n",
              "      border-radius: 50%;\n",
              "      cursor: pointer;\n",
              "      display: none;\n",
              "      fill: #1967D2;\n",
              "      height: 32px;\n",
              "      padding: 0 0 0 0;\n",
              "      width: 32px;\n",
              "    }\n",
              "\n",
              "    .colab-df-convert:hover {\n",
              "      background-color: #E2EBFA;\n",
              "      box-shadow: 0px 1px 2px rgba(60, 64, 67, 0.3), 0px 1px 3px 1px rgba(60, 64, 67, 0.15);\n",
              "      fill: #174EA6;\n",
              "    }\n",
              "\n",
              "    [theme=dark] .colab-df-convert {\n",
              "      background-color: #3B4455;\n",
              "      fill: #D2E3FC;\n",
              "    }\n",
              "\n",
              "    [theme=dark] .colab-df-convert:hover {\n",
              "      background-color: #434B5C;\n",
              "      box-shadow: 0px 1px 3px 1px rgba(0, 0, 0, 0.15);\n",
              "      filter: drop-shadow(0px 1px 2px rgba(0, 0, 0, 0.3));\n",
              "      fill: #FFFFFF;\n",
              "    }\n",
              "  </style>\n",
              "\n",
              "      <script>\n",
              "        const buttonEl =\n",
              "          document.querySelector('#df-23475d44-bbea-4639-a197-8b640dbe6838 button.colab-df-convert');\n",
              "        buttonEl.style.display =\n",
              "          google.colab.kernel.accessAllowed ? 'block' : 'none';\n",
              "\n",
              "        async function convertToInteractive(key) {\n",
              "          const element = document.querySelector('#df-23475d44-bbea-4639-a197-8b640dbe6838');\n",
              "          const dataTable =\n",
              "            await google.colab.kernel.invokeFunction('convertToInteractive',\n",
              "                                                     [key], {});\n",
              "          if (!dataTable) return;\n",
              "\n",
              "          const docLinkHtml = 'Like what you see? Visit the ' +\n",
              "            '<a target=\"_blank\" href=https://colab.research.google.com/notebooks/data_table.ipynb>data table notebook</a>'\n",
              "            + ' to learn more about interactive tables.';\n",
              "          element.innerHTML = '';\n",
              "          dataTable['output_type'] = 'display_data';\n",
              "          await google.colab.output.renderOutput(dataTable, element);\n",
              "          const docLink = document.createElement('div');\n",
              "          docLink.innerHTML = docLinkHtml;\n",
              "          element.appendChild(docLink);\n",
              "        }\n",
              "      </script>\n",
              "    </div>\n",
              "  </div>\n",
              "  "
            ]
          },
          "metadata": {},
          "execution_count": 17
        }
      ]
    },
    {
      "cell_type": "markdown",
      "source": [
        "# Plot graphs for visualization"
      ],
      "metadata": {
        "id": "ukHDBJ-DMVNJ"
      }
    },
    {
      "cell_type": "code",
      "source": [
        "plt.plot(df.index, df['Close'])"
      ],
      "metadata": {
        "colab": {
          "base_uri": "https://localhost:8080/",
          "height": 447
        },
        "id": "z_umwgxgMdyT",
        "outputId": "ef8679bd-f72f-4e7b-878b-d18701599f8f"
      },
      "execution_count": null,
      "outputs": [
        {
          "output_type": "execute_result",
          "data": {
            "text/plain": [
              "[<matplotlib.lines.Line2D at 0x7fecd43e9f30>]"
            ]
          },
          "metadata": {},
          "execution_count": 18
        },
        {
          "output_type": "display_data",
          "data": {
            "text/plain": [
              "<Figure size 640x480 with 1 Axes>"
            ],
            "image/png": "[encoded data removed]"
          },
          "metadata": {}
        }
      ]
    },
    {
      "cell_type": "markdown",
      "source": [
        "Closing index value is increasing rapidly since 2013\n"
      ],
      "metadata": {
        "id": "0vrXF_MKoCkO"
      }
    },
    {
      "cell_type": "markdown",
      "source": [
        "# Spliting the data into target "
      ],
      "metadata": {
        "id": "rBUsGFppQz_1"
      }
    },
    {
      "cell_type": "code",
      "source": [
        "def df_to_windowed_df(dataframe, first_date_str, last_date_str, n=3):\n",
        "  first_date = str_to_datetime(first_date_str)\n",
        "  last_date  = str_to_datetime(last_date_str)\n",
        "\n",
        "  target_date = first_date\n",
        "  \n",
        "  dates = []\n",
        "  X, Y = [], []\n",
        "\n",
        "  last_time = False\n",
        "  while True:\n",
        "    df_subset = dataframe.loc[:target_date].tail(n+1)\n",
        "    \n",
        "    if len(df_subset) != n+1:\n",
        "      print(f'Error: Window of size {n} is too large for date {target_date}')\n",
        "      return\n",
        "\n",
        "    values = df_subset['Close'].to_numpy()\n",
        "    x, y = values[:-1], values[-1]\n",
        "\n",
        "    dates.append(target_date)\n",
        "    X.append(x)\n",
        "    Y.append(y)\n",
        "\n",
        "    next_week = dataframe.loc[target_date:target_date+datetime.timedelta(days=7)]\n",
        "    next_datetime_str = str(next_week.head(2).tail(1).index.values[0])\n",
        "    next_date_str = next_datetime_str.split('T')[0]\n",
        "    year_month_day = next_date_str.split('-')\n",
        "    year, month, day = year_month_day\n",
        "    next_date = datetime.datetime(day=int(day), month=int(month), year=int(year))\n",
        "    \n",
        "    if last_time:\n",
        "      break\n",
        "    \n",
        "    target_date = next_date\n",
        "\n",
        "    if target_date == last_date:\n",
        "      last_time = True\n",
        "    \n",
        "  ret_df = pd.DataFrame({})\n",
        "  ret_df['Target Date'] = dates\n",
        "  \n",
        "  X = np.array(X)\n",
        "  for i in range(0, n):\n",
        "    X[:, i]\n",
        "    ret_df[f'Target-{n-i}'] = X[:, i]\n",
        "  \n",
        "  ret_df['Target'] = Y\n",
        "\n",
        "  return ret_df\n",
        "\n",
        "# Start day second time around: '2021-03-25'\n",
        "windowed_df = df_to_windowed_df(df, \n",
        "                                '2021-01-13', \n",
        "                                '2023-03-13', \n",
        "                                n=3)\n",
        "windowed_df"
      ],
      "metadata": {
        "colab": {
          "base_uri": "https://localhost:8080/",
          "height": 424
        },
        "id": "gXxH_bWghscV",
        "outputId": "e73baaa9-cce1-49e6-f427-99eba16e32af"
      },
      "execution_count": null,
      "outputs": [
        {
          "output_type": "execute_result",
          "data": {
            "text/plain": [
              "    Target Date    Target-3    Target-2    Target-1      Target\n",
              "0    2021-01-13  219.619995  217.490005  214.929993  216.339996\n",
              "1    2021-01-14  217.490005  214.929993  216.339996  213.020004\n",
              "2    2021-01-15  214.929993  216.339996  213.020004  212.649994\n",
              "3    2021-01-19  216.339996  213.020004  212.649994  216.440002\n",
              "4    2021-01-20  213.020004  212.649994  216.440002  224.339996\n",
              "..          ...         ...         ...         ...         ...\n",
              "539  2023-03-07  251.110001  255.289993  256.869995  254.149994\n",
              "540  2023-03-08  255.289993  256.869995  254.149994  253.699997\n",
              "541  2023-03-09  256.869995  254.149994  253.699997  252.320007\n",
              "542  2023-03-10  254.149994  253.699997  252.320007  248.589996\n",
              "543  2023-03-13  253.699997  252.320007  248.589996  253.919998\n",
              "\n",
              "[544 rows x 5 columns]"
            ],
            "text/html": [
              "\n",
              "  <div id=\"df-915f592c-3ffa-4ecf-aeb9-6e05ff3e3904\">\n",
              "    <div class=\"colab-df-container\">\n",
              "      <div>\n",
              "<style scoped>\n",
              "    .dataframe tbody tr th:only-of-type {\n",
              "        vertical-align: middle;\n",
              "    }\n",
              "\n",
              "    .dataframe tbody tr th {\n",
              "        vertical-align: top;\n",
              "    }\n",
              "\n",
              "    .dataframe thead th {\n",
              "        text-align: right;\n",
              "    }\n",
              "</style>\n",
              "<table border=\"1\" class=\"dataframe\">\n",
              "  <thead>\n",
              "    <tr style=\"text-align: right;\">\n",
              "      <th></th>\n",
              "      <th>Target Date</th>\n",
              "      <th>Target-3</th>\n",
              "      <th>Target-2</th>\n",
              "      <th>Target-1</th>\n",
              "      <th>Target</th>\n",
              "    </tr>\n",
              "  </thead>\n",
              "  <tbody>\n",
              "    <tr>\n",
              "      <th>0</th>\n",
              "      <td>2021-01-13</td>\n",
              "      <td>219.619995</td>\n",
              "      <td>217.490005</td>\n",
              "      <td>214.929993</td>\n",
              "      <td>216.339996</td>\n",
              "    </tr>\n",
              "    <tr>\n",
              "      <th>1</th>\n",
              "      <td>2021-01-14</td>\n",
              "      <td>217.490005</td>\n",
              "      <td>214.929993</td>\n",
              "      <td>216.339996</td>\n",
              "      <td>213.020004</td>\n",
              "    </tr>\n",
              "    <tr>\n",
              "      <th>2</th>\n",
              "      <td>2021-01-15</td>\n",
              "      <td>214.929993</td>\n",
              "      <td>216.339996</td>\n",
              "      <td>213.020004</td>\n",
              "      <td>212.649994</td>\n",
              "    </tr>\n",
              "    <tr>\n",
              "      <th>3</th>\n",
              "      <td>2021-01-19</td>\n",
              "      <td>216.339996</td>\n",
              "      <td>213.020004</td>\n",
              "      <td>212.649994</td>\n",
              "      <td>216.440002</td>\n",
              "    </tr>\n",
              "    <tr>\n",
              "      <th>4</th>\n",
              "      <td>2021-01-20</td>\n",
              "      <td>213.020004</td>\n",
              "      <td>212.649994</td>\n",
              "      <td>216.440002</td>\n",
              "      <td>224.339996</td>\n",
              "    </tr>\n",
              "    <tr>\n",
              "      <th>...</th>\n",
              "      <td>...</td>\n",
              "      <td>...</td>\n",
              "      <td>...</td>\n",
              "      <td>...</td>\n",
              "      <td>...</td>\n",
              "    </tr>\n",
              "    <tr>\n",
              "      <th>539</th>\n",
              "      <td>2023-03-07</td>\n",
              "      <td>251.110001</td>\n",
              "      <td>255.289993</td>\n",
              "      <td>256.869995</td>\n",
              "      <td>254.149994</td>\n",
              "    </tr>\n",
              "    <tr>\n",
              "      <th>540</th>\n",
              "      <td>2023-03-08</td>\n",
              "      <td>255.289993</td>\n",
              "      <td>256.869995</td>\n",
              "      <td>254.149994</td>\n",
              "      <td>253.699997</td>\n",
              "    </tr>\n",
              "    <tr>\n",
              "      <th>541</th>\n",
              "      <td>2023-03-09</td>\n",
              "      <td>256.869995</td>\n",
              "      <td>254.149994</td>\n",
              "      <td>253.699997</td>\n",
              "      <td>252.320007</td>\n",
              "    </tr>\n",
              "    <tr>\n",
              "      <th>542</th>\n",
              "      <td>2023-03-10</td>\n",
              "      <td>254.149994</td>\n",
              "      <td>253.699997</td>\n",
              "      <td>252.320007</td>\n",
              "      <td>248.589996</td>\n",
              "    </tr>\n",
              "    <tr>\n",
              "      <th>543</th>\n",
              "      <td>2023-03-13</td>\n",
              "      <td>253.699997</td>\n",
              "      <td>252.320007</td>\n",
              "      <td>248.589996</td>\n",
              "      <td>253.919998</td>\n",
              "    </tr>\n",
              "  </tbody>\n",
              "</table>\n",
              "<p>544 rows × 5 columns</p>\n",
              "</div>\n",
              "      <button class=\"colab-df-convert\" onclick=\"convertToInteractive('df-915f592c-3ffa-4ecf-aeb9-6e05ff3e3904')\"\n",
              "              title=\"Convert this dataframe to an interactive table.\"\n",
              "              style=\"display:none;\">\n",
              "        \n",
              "  <svg xmlns=\"http://www.w3.org/2000/svg\" height=\"24px\"viewBox=\"0 0 24 24\"\n",
              "       width=\"24px\">\n",
              "    <path d=\"M0 0h24v24H0V0z\" fill=\"none\"/>\n",
              "    <path d=\"M18.56 5.44l.94 2.06.94-2.06 2.06-.94-2.06-.94-.94-2.06-.94 2.06-2.06.94zm-11 1L8.5 8.5l.94-2.06 2.06-.94-2.06-.94L8.5 2.5l-.94 2.06-2.06.94zm10 10l.94 2.06.94-2.06 2.06-.94-2.06-.94-.94-2.06-.94 2.06-2.06.94z\"/><path d=\"M17.41 7.96l-1.37-1.37c-.4-.4-.92-.59-1.43-.59-.52 0-1.04.2-1.43.59L10.3 9.45l-7.72 7.72c-.78.78-.78 2.05 0 2.83L4 21.41c.39.39.9.59 1.41.59.51 0 1.02-.2 1.41-.59l7.78-7.78 2.81-2.81c.8-.78.8-2.07 0-2.86zM5.41 20L4 18.59l7.72-7.72 1.47 1.35L5.41 20z\"/>\n",
              "  </svg>\n",
              "      </button>\n",
              "      \n",
              "  <style>\n",
              "    .colab-df-container {\n",
              "      display:flex;\n",
              "      flex-wrap:wrap;\n",
              "      gap: 12px;\n",
              "    }\n",
              "\n",
              "    .colab-df-convert {\n",
              "      background-color: #E8F0FE;\n",
              "      border: none;\n",
              "      border-radius: 50%;\n",
              "      cursor: pointer;\n",
              "      display: none;\n",
              "      fill: #1967D2;\n",
              "      height: 32px;\n",
              "      padding: 0 0 0 0;\n",
              "      width: 32px;\n",
              "    }\n",
              "\n",
              "    .colab-df-convert:hover {\n",
              "      background-color: #E2EBFA;\n",
              "      box-shadow: 0px 1px 2px rgba(60, 64, 67, 0.3), 0px 1px 3px 1px rgba(60, 64, 67, 0.15);\n",
              "      fill: #174EA6;\n",
              "    }\n",
              "\n",
              "    [theme=dark] .colab-df-convert {\n",
              "      background-color: #3B4455;\n",
              "      fill: #D2E3FC;\n",
              "    }\n",
              "\n",
              "    [theme=dark] .colab-df-convert:hover {\n",
              "      background-color: #434B5C;\n",
              "      box-shadow: 0px 1px 3px 1px rgba(0, 0, 0, 0.15);\n",
              "      filter: drop-shadow(0px 1px 2px rgba(0, 0, 0, 0.3));\n",
              "      fill: #FFFFFF;\n",
              "    }\n",
              "  </style>\n",
              "\n",
              "      <script>\n",
              "        const buttonEl =\n",
              "          document.querySelector('#df-915f592c-3ffa-4ecf-aeb9-6e05ff3e3904 button.colab-df-convert');\n",
              "        buttonEl.style.display =\n",
              "          google.colab.kernel.accessAllowed ? 'block' : 'none';\n",
              "\n",
              "        async function convertToInteractive(key) {\n",
              "          const element = document.querySelector('#df-915f592c-3ffa-4ecf-aeb9-6e05ff3e3904');\n",
              "          const dataTable =\n",
              "            await google.colab.kernel.invokeFunction('convertToInteractive',\n",
              "                                                     [key], {});\n",
              "          if (!dataTable) return;\n",
              "\n",
              "          const docLinkHtml = 'Like what you see? Visit the ' +\n",
              "            '<a target=\"_blank\" href=https://colab.research.google.com/notebooks/data_table.ipynb>data table notebook</a>'\n",
              "            + ' to learn more about interactive tables.';\n",
              "          element.innerHTML = '';\n",
              "          dataTable['output_type'] = 'display_data';\n",
              "          await google.colab.output.renderOutput(dataTable, element);\n",
              "          const docLink = document.createElement('div');\n",
              "          docLink.innerHTML = docLinkHtml;\n",
              "          element.appendChild(docLink);\n",
              "        }\n",
              "      </script>\n",
              "    </div>\n",
              "  </div>\n",
              "  "
            ]
          },
          "metadata": {},
          "execution_count": 19
        }
      ]
    },
    {
      "cell_type": "markdown",
      "source": [
        "Making a target value in such way that target value is the average of 3 pervious dates"
      ],
      "metadata": {
        "id": "wXW_4frMoqEO"
      }
    },
    {
      "cell_type": "code",
      "source": [
        "def windowed_df_to_date_X_y(windowed_dataframe):\n",
        "  df_as_np = windowed_dataframe.to_numpy()\n",
        "\n",
        "  dates = df_as_np[:, 0]\n",
        "\n",
        "  middle_matrix = df_as_np[:, 1:-1]\n",
        "  X = middle_matrix.reshape((len(dates), middle_matrix.shape[1], 1))\n",
        "\n",
        "  Y = df_as_np[:, -1]\n",
        "\n",
        "  return dates, X.astype(np.float32), Y.astype(np.float32)\n",
        "\n",
        "dates, X, y = windowed_df_to_date_X_y(windowed_df)\n",
        "\n",
        "dates.shape, X.shape, y.shape"
      ],
      "metadata": {
        "colab": {
          "base_uri": "https://localhost:8080/"
        },
        "id": "5a_6LVPfUVOM",
        "outputId": "b5d4ad02-ee76-4e2b-eb40-01d73765f8bb"
      },
      "execution_count": null,
      "outputs": [
        {
          "output_type": "execute_result",
          "data": {
            "text/plain": [
              "((544,), (544, 3, 1), (544,))"
            ]
          },
          "metadata": {},
          "execution_count": 20
        }
      ]
    },
    {
      "cell_type": "markdown",
      "source": [
        "# Spliting the data into train validation and test "
      ],
      "metadata": {
        "id": "eLo2VMCbRCOY"
      }
    },
    {
      "cell_type": "code",
      "source": [
        "q_80 = int(len(dates) * .8)\n",
        "q_90 = int(len(dates) * .9)\n",
        "\n",
        "dates_train, X_train, y_train = dates[:q_80], X[:q_80], y[:q_80]\n",
        "\n",
        "dates_val, X_val, y_val = dates[q_80:q_90], X[q_80:q_90], y[q_80:q_90]\n",
        "dates_test, X_test, y_test = dates[q_90:], X[q_90:], y[q_90:]\n",
        "\n",
        "plt.plot(dates_train, y_train)\n",
        "plt.plot(dates_val, y_val)\n",
        "plt.plot(dates_test, y_test)\n",
        "\n",
        "plt.legend(['Train', 'Validation', 'Test'])"
      ],
      "metadata": {
        "colab": {
          "base_uri": "https://localhost:8080/",
          "height": 447
        },
        "id": "SOKfCkEUUe02",
        "outputId": "8c922c91-e770-474f-a4dd-3e9ba8be88b2"
      },
      "execution_count": null,
      "outputs": [
        {
          "output_type": "execute_result",
          "data": {
            "text/plain": [
              "<matplotlib.legend.Legend at 0x7fecd42ee980>"
            ]
          },
          "metadata": {},
          "execution_count": 21
        },
        {
          "output_type": "display_data",
          "data": {
            "text/plain": [
              "<Figure size 640x480 with 1 Axes>"
            ],
            "image/png": "[encoded data removed]"
          },
          "metadata": {}
        }
      ]
    },
    {
      "cell_type": "markdown",
      "source": [
        "its shows that our predictions are overlapping the values of training data"
      ],
      "metadata": {
        "id": "YW5IPCX5JK1i"
      }
    },
    {
      "cell_type": "markdown",
      "source": [
        "graph shows that closing values of test validate and training dataset"
      ],
      "metadata": {
        "id": "rEb81XLwI0kX"
      }
    },
    {
      "cell_type": "markdown",
      "source": [
        "# Model LSTM"
      ],
      "metadata": {
        "id": "VZJKXWyjR5hw"
      }
    },
    {
      "cell_type": "code",
      "source": [
        "model = Sequential([layers.Input((3, 1)),\n",
        "                    layers.LSTM(64),\n",
        "                    layers.Dense(32, activation='relu'),\n",
        "                    layers.Dense(32, activation='relu'),\n",
        "                    layers.Dense(1)])\n",
        "\n",
        "model.compile(loss='mse', \n",
        "              optimizer=Adam(learning_rate=0.001),\n",
        "              metrics=['mean_absolute_error'])\n",
        "\n",
        "model.fit(X_train, y_train, validation_data=(X_val, y_val), epochs=100)"
      ],
      "metadata": {
        "colab": {
          "base_uri": "https://localhost:8080/"
        },
        "id": "eYXWIBSyONTY",
        "outputId": "63c92416-43f4-4344-868b-b85863d32774"
      },
      "execution_count": null,
      "outputs": [
        {
          "output_type": "stream",
          "name": "stdout",
          "text": [
            "Epoch 1/100\n",
            "14/14 [==============================] - 3s 47ms/step - loss: 78097.2500 - mean_absolute_error: 277.7697 - val_loss: 57311.0898 - val_mean_absolute_error: 239.1876\n",
            "Epoch 2/100\n",
            "14/14 [==============================] - 0s 7ms/step - loss: 77527.8984 - mean_absolute_error: 276.7422 - val_loss: 56822.1406 - val_mean_absolute_error: 238.1630\n",
            "Epoch 3/100\n",
            "14/14 [==============================] - 0s 6ms/step - loss: 76789.1094 - mean_absolute_error: 275.3963 - val_loss: 55861.3398 - val_mean_absolute_error: 236.1373\n",
            "Epoch 4/100\n",
            "14/14 [==============================] - 0s 6ms/step - loss: 75282.8516 - mean_absolute_error: 272.6459 - val_loss: 53987.9961 - val_mean_absolute_error: 232.1360\n",
            "Epoch 5/100\n",
            "14/14 [==============================] - 0s 7ms/step - loss: 72314.7422 - mean_absolute_error: 267.1490 - val_loss: 50907.9258 - val_mean_absolute_error: 225.4050\n",
            "Epoch 6/100\n",
            "14/14 [==============================] - 0s 9ms/step - loss: 68144.9141 - mean_absolute_error: 259.2348 - val_loss: 46258.2422 - val_mean_absolute_error: 214.8418\n",
            "Epoch 7/100\n",
            "14/14 [==============================] - 0s 9ms/step - loss: 60968.1133 - mean_absolute_error: 244.9484 - val_loss: 38428.0352 - val_mean_absolute_error: 195.7738\n",
            "Epoch 8/100\n",
            "14/14 [==============================] - 0s 9ms/step - loss: 50976.2031 - mean_absolute_error: 223.5721 - val_loss: 29850.5762 - val_mean_absolute_error: 172.4825\n",
            "Epoch 9/100\n",
            "14/14 [==============================] - 0s 9ms/step - loss: 40193.5508 - mean_absolute_error: 197.9119 - val_loss: 20476.1328 - val_mean_absolute_error: 142.7422\n",
            "Epoch 10/100\n",
            "14/14 [==============================] - 0s 10ms/step - loss: 28193.6309 - mean_absolute_error: 164.8426 - val_loss: 11417.2773 - val_mean_absolute_error: 106.3761\n",
            "Epoch 11/100\n",
            "14/14 [==============================] - 0s 9ms/step - loss: 16741.1660 - mean_absolute_error: 124.9663 - val_loss: 4058.0659 - val_mean_absolute_error: 62.9088\n",
            "Epoch 12/100\n",
            "14/14 [==============================] - 0s 9ms/step - loss: 7887.1406 - mean_absolute_error: 82.5438 - val_loss: 570.6975 - val_mean_absolute_error: 21.8355\n",
            "Epoch 13/100\n",
            "14/14 [==============================] - 0s 10ms/step - loss: 2945.1780 - mean_absolute_error: 45.0440 - val_loss: 236.5960 - val_mean_absolute_error: 12.4844\n",
            "Epoch 14/100\n",
            "14/14 [==============================] - 0s 9ms/step - loss: 1213.7440 - mean_absolute_error: 28.0532 - val_loss: 1153.3042 - val_mean_absolute_error: 32.4494\n",
            "Epoch 15/100\n",
            "14/14 [==============================] - 0s 10ms/step - loss: 941.7268 - mean_absolute_error: 25.7911 - val_loss: 1735.8577 - val_mean_absolute_error: 40.4415\n",
            "Epoch 16/100\n",
            "14/14 [==============================] - 0s 10ms/step - loss: 955.2159 - mean_absolute_error: 25.9162 - val_loss: 1808.0454 - val_mean_absolute_error: 41.3244\n",
            "Epoch 17/100\n",
            "14/14 [==============================] - 0s 10ms/step - loss: 949.2418 - mean_absolute_error: 25.8559 - val_loss: 1622.8304 - val_mean_absolute_error: 39.0191\n",
            "Epoch 18/100\n",
            "14/14 [==============================] - 0s 9ms/step - loss: 941.8885 - mean_absolute_error: 25.8012 - val_loss: 1572.4922 - val_mean_absolute_error: 38.3687\n",
            "Epoch 19/100\n",
            "14/14 [==============================] - 0s 10ms/step - loss: 941.1513 - mean_absolute_error: 25.7902 - val_loss: 1529.2266 - val_mean_absolute_error: 37.8007\n",
            "Epoch 20/100\n",
            "14/14 [==============================] - 0s 10ms/step - loss: 942.3365 - mean_absolute_error: 25.8110 - val_loss: 1521.0508 - val_mean_absolute_error: 37.6925\n",
            "Epoch 21/100\n",
            "14/14 [==============================] - 0s 9ms/step - loss: 942.8008 - mean_absolute_error: 25.8227 - val_loss: 1491.4022 - val_mean_absolute_error: 37.2972\n",
            "Epoch 22/100\n",
            "14/14 [==============================] - 0s 11ms/step - loss: 918.4505 - mean_absolute_error: 25.2316 - val_loss: 1362.1163 - val_mean_absolute_error: 35.6582\n",
            "Epoch 23/100\n",
            "14/14 [==============================] - 0s 10ms/step - loss: 825.1838 - mean_absolute_error: 24.0072 - val_loss: 973.5715 - val_mean_absolute_error: 29.6494\n",
            "Epoch 24/100\n",
            "14/14 [==============================] - 0s 11ms/step - loss: 787.8843 - mean_absolute_error: 23.5192 - val_loss: 1046.7737 - val_mean_absolute_error: 30.8721\n",
            "Epoch 25/100\n",
            "14/14 [==============================] - 0s 10ms/step - loss: 789.9331 - mean_absolute_error: 23.5929 - val_loss: 1368.0070 - val_mean_absolute_error: 35.8513\n",
            "Epoch 26/100\n",
            "14/14 [==============================] - 0s 9ms/step - loss: 755.0344 - mean_absolute_error: 22.9435 - val_loss: 1129.4745 - val_mean_absolute_error: 32.2611\n",
            "Epoch 27/100\n",
            "14/14 [==============================] - 0s 7ms/step - loss: 718.4709 - mean_absolute_error: 22.3110 - val_loss: 1145.3608 - val_mean_absolute_error: 32.6218\n",
            "Epoch 28/100\n",
            "14/14 [==============================] - 0s 7ms/step - loss: 678.5511 - mean_absolute_error: 21.6367 - val_loss: 863.6814 - val_mean_absolute_error: 27.9009\n",
            "Epoch 29/100\n",
            "14/14 [==============================] - 0s 7ms/step - loss: 627.5280 - mean_absolute_error: 20.7056 - val_loss: 952.3918 - val_mean_absolute_error: 29.6036\n",
            "Epoch 30/100\n",
            "14/14 [==============================] - 0s 6ms/step - loss: 532.9902 - mean_absolute_error: 18.7335 - val_loss: 519.5209 - val_mean_absolute_error: 21.3684\n",
            "Epoch 31/100\n",
            "14/14 [==============================] - 0s 7ms/step - loss: 416.2537 - mean_absolute_error: 16.4044 - val_loss: 562.6743 - val_mean_absolute_error: 22.5099\n",
            "Epoch 32/100\n",
            "14/14 [==============================] - 0s 6ms/step - loss: 367.7199 - mean_absolute_error: 15.4196 - val_loss: 388.9016 - val_mean_absolute_error: 18.2553\n",
            "Epoch 33/100\n",
            "14/14 [==============================] - 0s 7ms/step - loss: 276.7182 - mean_absolute_error: 12.9721 - val_loss: 287.0834 - val_mean_absolute_error: 15.3720\n",
            "Epoch 34/100\n",
            "14/14 [==============================] - 0s 6ms/step - loss: 197.9953 - mean_absolute_error: 10.5415 - val_loss: 114.4284 - val_mean_absolute_error: 8.8359\n",
            "Epoch 35/100\n",
            "14/14 [==============================] - 0s 6ms/step - loss: 140.7202 - mean_absolute_error: 8.5398 - val_loss: 58.0642 - val_mean_absolute_error: 6.0119\n",
            "Epoch 36/100\n",
            "14/14 [==============================] - 0s 7ms/step - loss: 103.8605 - mean_absolute_error: 7.2096 - val_loss: 55.8276 - val_mean_absolute_error: 5.9218\n",
            "Epoch 37/100\n",
            "14/14 [==============================] - 0s 6ms/step - loss: 84.2050 - mean_absolute_error: 6.6649 - val_loss: 67.2263 - val_mean_absolute_error: 6.4720\n",
            "Epoch 38/100\n",
            "14/14 [==============================] - 0s 8ms/step - loss: 65.2255 - mean_absolute_error: 5.8377 - val_loss: 49.3313 - val_mean_absolute_error: 5.5773\n",
            "Epoch 39/100\n",
            "14/14 [==============================] - 0s 7ms/step - loss: 56.2304 - mean_absolute_error: 5.4715 - val_loss: 52.4883 - val_mean_absolute_error: 5.7609\n",
            "Epoch 40/100\n",
            "14/14 [==============================] - 0s 6ms/step - loss: 52.2632 - mean_absolute_error: 5.5209 - val_loss: 50.7625 - val_mean_absolute_error: 5.6428\n",
            "Epoch 41/100\n",
            "14/14 [==============================] - 0s 7ms/step - loss: 53.0698 - mean_absolute_error: 5.6231 - val_loss: 64.0594 - val_mean_absolute_error: 6.3468\n",
            "Epoch 42/100\n",
            "14/14 [==============================] - 0s 6ms/step - loss: 55.2076 - mean_absolute_error: 5.9045 - val_loss: 55.9650 - val_mean_absolute_error: 6.0485\n",
            "Epoch 43/100\n",
            "14/14 [==============================] - 0s 7ms/step - loss: 49.6531 - mean_absolute_error: 5.5437 - val_loss: 50.5241 - val_mean_absolute_error: 5.6487\n",
            "Epoch 44/100\n",
            "14/14 [==============================] - 0s 7ms/step - loss: 37.7121 - mean_absolute_error: 4.7257 - val_loss: 51.4067 - val_mean_absolute_error: 5.7000\n",
            "Epoch 45/100\n",
            "14/14 [==============================] - 0s 6ms/step - loss: 38.0271 - mean_absolute_error: 4.7719 - val_loss: 47.8849 - val_mean_absolute_error: 5.4988\n",
            "Epoch 46/100\n",
            "14/14 [==============================] - 0s 6ms/step - loss: 35.9318 - mean_absolute_error: 4.7372 - val_loss: 49.9881 - val_mean_absolute_error: 5.6122\n",
            "Epoch 47/100\n",
            "14/14 [==============================] - 0s 6ms/step - loss: 36.6954 - mean_absolute_error: 4.7393 - val_loss: 72.7554 - val_mean_absolute_error: 6.7776\n",
            "Epoch 48/100\n",
            "14/14 [==============================] - 0s 7ms/step - loss: 36.3116 - mean_absolute_error: 4.7603 - val_loss: 51.2283 - val_mean_absolute_error: 5.6828\n",
            "Epoch 49/100\n",
            "14/14 [==============================] - 0s 6ms/step - loss: 37.5870 - mean_absolute_error: 4.8186 - val_loss: 50.7356 - val_mean_absolute_error: 5.6625\n",
            "Epoch 50/100\n",
            "14/14 [==============================] - 0s 6ms/step - loss: 31.4038 - mean_absolute_error: 4.3863 - val_loss: 48.0364 - val_mean_absolute_error: 5.4991\n",
            "Epoch 51/100\n",
            "14/14 [==============================] - 0s 7ms/step - loss: 43.0702 - mean_absolute_error: 5.2913 - val_loss: 55.8007 - val_mean_absolute_error: 5.9438\n",
            "Epoch 52/100\n",
            "14/14 [==============================] - 0s 6ms/step - loss: 32.7417 - mean_absolute_error: 4.5786 - val_loss: 67.2151 - val_mean_absolute_error: 6.7268\n",
            "Epoch 53/100\n",
            "14/14 [==============================] - 0s 7ms/step - loss: 36.0794 - mean_absolute_error: 4.7255 - val_loss: 48.4366 - val_mean_absolute_error: 5.5356\n",
            "Epoch 54/100\n",
            "14/14 [==============================] - 0s 6ms/step - loss: 35.9177 - mean_absolute_error: 4.7524 - val_loss: 47.6762 - val_mean_absolute_error: 5.4912\n",
            "Epoch 55/100\n",
            "14/14 [==============================] - 0s 6ms/step - loss: 31.6563 - mean_absolute_error: 4.4478 - val_loss: 66.8976 - val_mean_absolute_error: 6.4694\n",
            "Epoch 56/100\n",
            "14/14 [==============================] - 0s 9ms/step - loss: 32.1098 - mean_absolute_error: 4.3539 - val_loss: 48.5233 - val_mean_absolute_error: 5.5305\n",
            "Epoch 57/100\n",
            "14/14 [==============================] - 0s 6ms/step - loss: 32.1098 - mean_absolute_error: 4.5028 - val_loss: 49.9717 - val_mean_absolute_error: 5.6204\n",
            "Epoch 58/100\n",
            "14/14 [==============================] - 0s 7ms/step - loss: 41.1332 - mean_absolute_error: 4.9869 - val_loss: 49.8388 - val_mean_absolute_error: 5.6637\n",
            "Epoch 59/100\n",
            "14/14 [==============================] - 0s 7ms/step - loss: 31.5591 - mean_absolute_error: 4.4315 - val_loss: 48.3450 - val_mean_absolute_error: 5.5178\n",
            "Epoch 60/100\n",
            "14/14 [==============================] - 0s 7ms/step - loss: 35.6770 - mean_absolute_error: 4.7175 - val_loss: 113.8445 - val_mean_absolute_error: 8.8911\n",
            "Epoch 61/100\n",
            "14/14 [==============================] - 0s 6ms/step - loss: 44.7256 - mean_absolute_error: 5.3467 - val_loss: 51.4003 - val_mean_absolute_error: 5.6967\n",
            "Epoch 62/100\n",
            "14/14 [==============================] - 0s 6ms/step - loss: 45.4854 - mean_absolute_error: 5.3406 - val_loss: 44.7478 - val_mean_absolute_error: 5.2864\n",
            "Epoch 63/100\n",
            "14/14 [==============================] - 0s 6ms/step - loss: 33.7837 - mean_absolute_error: 4.6582 - val_loss: 69.6847 - val_mean_absolute_error: 6.6434\n",
            "Epoch 64/100\n",
            "14/14 [==============================] - 0s 8ms/step - loss: 51.2153 - mean_absolute_error: 5.6814 - val_loss: 71.4622 - val_mean_absolute_error: 6.7406\n",
            "Epoch 65/100\n",
            "14/14 [==============================] - 0s 7ms/step - loss: 36.8472 - mean_absolute_error: 4.7918 - val_loss: 56.3040 - val_mean_absolute_error: 6.0862\n",
            "Epoch 66/100\n",
            "14/14 [==============================] - 0s 6ms/step - loss: 32.8679 - mean_absolute_error: 4.5353 - val_loss: 45.0489 - val_mean_absolute_error: 5.3088\n",
            "Epoch 67/100\n",
            "14/14 [==============================] - 0s 6ms/step - loss: 29.6641 - mean_absolute_error: 4.2917 - val_loss: 52.7215 - val_mean_absolute_error: 5.7678\n",
            "Epoch 68/100\n",
            "14/14 [==============================] - 0s 6ms/step - loss: 31.9183 - mean_absolute_error: 4.4412 - val_loss: 55.5795 - val_mean_absolute_error: 5.9031\n",
            "Epoch 69/100\n",
            "14/14 [==============================] - 0s 7ms/step - loss: 28.2342 - mean_absolute_error: 4.1463 - val_loss: 47.1817 - val_mean_absolute_error: 5.4784\n",
            "Epoch 70/100\n",
            "14/14 [==============================] - 0s 6ms/step - loss: 31.3043 - mean_absolute_error: 4.4155 - val_loss: 46.0760 - val_mean_absolute_error: 5.3722\n",
            "Epoch 71/100\n",
            "14/14 [==============================] - 0s 7ms/step - loss: 28.0282 - mean_absolute_error: 4.0947 - val_loss: 45.2010 - val_mean_absolute_error: 5.3157\n",
            "Epoch 72/100\n",
            "14/14 [==============================] - 0s 6ms/step - loss: 27.9680 - mean_absolute_error: 4.1064 - val_loss: 46.3913 - val_mean_absolute_error: 5.3931\n",
            "Epoch 73/100\n",
            "14/14 [==============================] - 0s 6ms/step - loss: 31.4304 - mean_absolute_error: 4.4394 - val_loss: 45.8854 - val_mean_absolute_error: 5.3631\n",
            "Epoch 74/100\n",
            "14/14 [==============================] - 0s 7ms/step - loss: 30.5116 - mean_absolute_error: 4.3562 - val_loss: 43.9286 - val_mean_absolute_error: 5.2193\n",
            "Epoch 75/100\n",
            "14/14 [==============================] - 0s 6ms/step - loss: 33.1917 - mean_absolute_error: 4.4849 - val_loss: 45.3779 - val_mean_absolute_error: 5.3351\n",
            "Epoch 76/100\n",
            "14/14 [==============================] - 0s 6ms/step - loss: 29.7681 - mean_absolute_error: 4.3283 - val_loss: 46.0330 - val_mean_absolute_error: 5.3627\n",
            "Epoch 77/100\n",
            "14/14 [==============================] - 0s 6ms/step - loss: 30.2357 - mean_absolute_error: 4.2359 - val_loss: 45.5403 - val_mean_absolute_error: 5.3418\n",
            "Epoch 78/100\n",
            "14/14 [==============================] - 0s 6ms/step - loss: 26.9053 - mean_absolute_error: 4.0381 - val_loss: 46.1547 - val_mean_absolute_error: 5.3828\n",
            "Epoch 79/100\n",
            "14/14 [==============================] - 0s 7ms/step - loss: 27.6026 - mean_absolute_error: 4.1279 - val_loss: 56.4329 - val_mean_absolute_error: 5.9494\n",
            "Epoch 80/100\n",
            "14/14 [==============================] - 0s 6ms/step - loss: 32.9706 - mean_absolute_error: 4.6066 - val_loss: 74.1714 - val_mean_absolute_error: 6.8969\n",
            "Epoch 81/100\n",
            "14/14 [==============================] - 0s 6ms/step - loss: 37.3308 - mean_absolute_error: 4.8967 - val_loss: 45.7030 - val_mean_absolute_error: 5.3467\n",
            "Epoch 82/100\n",
            "14/14 [==============================] - 0s 7ms/step - loss: 29.7614 - mean_absolute_error: 4.2199 - val_loss: 54.2663 - val_mean_absolute_error: 5.9499\n",
            "Epoch 83/100\n",
            "14/14 [==============================] - 0s 7ms/step - loss: 32.3409 - mean_absolute_error: 4.5001 - val_loss: 44.1824 - val_mean_absolute_error: 5.2299\n",
            "Epoch 84/100\n",
            "14/14 [==============================] - 0s 7ms/step - loss: 29.6336 - mean_absolute_error: 4.3195 - val_loss: 44.0530 - val_mean_absolute_error: 5.2212\n",
            "Epoch 85/100\n",
            "14/14 [==============================] - 0s 6ms/step - loss: 28.6647 - mean_absolute_error: 4.2357 - val_loss: 44.0421 - val_mean_absolute_error: 5.2406\n",
            "Epoch 86/100\n",
            "14/14 [==============================] - 0s 6ms/step - loss: 31.2851 - mean_absolute_error: 4.3353 - val_loss: 53.3573 - val_mean_absolute_error: 5.8814\n",
            "Epoch 87/100\n",
            "14/14 [==============================] - 0s 7ms/step - loss: 31.6750 - mean_absolute_error: 4.4861 - val_loss: 44.3477 - val_mean_absolute_error: 5.2365\n",
            "Epoch 88/100\n",
            "14/14 [==============================] - 0s 6ms/step - loss: 30.6452 - mean_absolute_error: 4.3526 - val_loss: 50.3169 - val_mean_absolute_error: 5.6882\n",
            "Epoch 89/100\n",
            "14/14 [==============================] - 0s 7ms/step - loss: 29.8188 - mean_absolute_error: 4.3102 - val_loss: 43.5613 - val_mean_absolute_error: 5.2038\n",
            "Epoch 90/100\n",
            "14/14 [==============================] - 0s 8ms/step - loss: 31.3408 - mean_absolute_error: 4.3543 - val_loss: 45.7268 - val_mean_absolute_error: 5.3410\n",
            "Epoch 91/100\n",
            "14/14 [==============================] - 0s 8ms/step - loss: 26.1938 - mean_absolute_error: 4.0322 - val_loss: 47.4405 - val_mean_absolute_error: 5.4642\n",
            "Epoch 92/100\n",
            "14/14 [==============================] - 0s 6ms/step - loss: 27.6236 - mean_absolute_error: 4.1138 - val_loss: 46.4917 - val_mean_absolute_error: 5.4075\n",
            "Epoch 93/100\n",
            "14/14 [==============================] - 0s 6ms/step - loss: 31.5333 - mean_absolute_error: 4.3577 - val_loss: 66.1473 - val_mean_absolute_error: 6.5002\n",
            "Epoch 94/100\n",
            "14/14 [==============================] - 0s 6ms/step - loss: 32.1740 - mean_absolute_error: 4.4806 - val_loss: 44.0599 - val_mean_absolute_error: 5.2435\n",
            "Epoch 95/100\n",
            "14/14 [==============================] - 0s 7ms/step - loss: 28.8954 - mean_absolute_error: 4.2166 - val_loss: 52.5901 - val_mean_absolute_error: 5.7288\n",
            "Epoch 96/100\n",
            "14/14 [==============================] - 0s 7ms/step - loss: 31.7382 - mean_absolute_error: 4.3998 - val_loss: 47.3426 - val_mean_absolute_error: 5.4380\n",
            "Epoch 97/100\n",
            "14/14 [==============================] - 0s 8ms/step - loss: 26.8556 - mean_absolute_error: 4.0323 - val_loss: 52.3588 - val_mean_absolute_error: 5.7177\n",
            "Epoch 98/100\n",
            "14/14 [==============================] - 0s 6ms/step - loss: 29.8834 - mean_absolute_error: 4.2486 - val_loss: 49.5632 - val_mean_absolute_error: 5.5961\n",
            "Epoch 99/100\n",
            "14/14 [==============================] - 0s 6ms/step - loss: 34.4587 - mean_absolute_error: 4.6656 - val_loss: 43.9273 - val_mean_absolute_error: 5.2240\n",
            "Epoch 100/100\n",
            "14/14 [==============================] - 0s 7ms/step - loss: 30.5591 - mean_absolute_error: 4.3739 - val_loss: 43.1427 - val_mean_absolute_error: 5.1582\n"
          ]
        },
        {
          "output_type": "execute_result",
          "data": {
            "text/plain": [
              "<keras.callbacks.History at 0x7fecd05da590>"
            ]
          },
          "metadata": {},
          "execution_count": 38
        }
      ]
    },
    {
      "cell_type": "markdown",
      "source": [
        "# Predictions"
      ],
      "metadata": {
        "id": "RZUbXu--OV88"
      }
    },
    {
      "cell_type": "code",
      "source": [
        "train_predictions = model.predict(X_train).flatten()\n",
        "\n",
        "plt.plot(dates_train, train_predictions)\n",
        "plt.plot(dates_train, y_train)\n",
        "plt.legend(['Training Predictions', 'Training Observations'])"
      ],
      "metadata": {
        "colab": {
          "base_uri": "https://localhost:8080/",
          "height": 465
        },
        "id": "NbJoWRnsOcny",
        "outputId": "1479f41f-381b-4b38-e0f1-754a47052514"
      },
      "execution_count": null,
      "outputs": [
        {
          "output_type": "stream",
          "name": "stdout",
          "text": [
            "14/14 [==============================] - 1s 3ms/step\n"
          ]
        },
        {
          "output_type": "execute_result",
          "data": {
            "text/plain": [
              "<matplotlib.legend.Legend at 0x7f1a6f4af790>"
            ]
          },
          "metadata": {},
          "execution_count": 24
        },
        {
          "output_type": "display_data",
          "data": {
            "text/plain": [
              "<Figure size 640x480 with 1 Axes>"
            ],
            "image/png": "[encoded data removed]"
          },
          "metadata": {}
        }
      ]
    },
    {
      "cell_type": "code",
      "source": [
        "val_predictions = model.predict(X_val).flatten()\n",
        "\n",
        "plt.plot(dates_val, val_predictions)\n",
        "plt.plot(dates_val, y_val)\n",
        "plt.legend(['Validation Predictions', 'Validation Observations'])"
      ],
      "metadata": {
        "colab": {
          "base_uri": "https://localhost:8080/",
          "height": 465
        },
        "id": "64Xlq1y0O7jW",
        "outputId": "311e2800-aede-48b1-ae52-e8f56b273187"
      },
      "execution_count": null,
      "outputs": [
        {
          "output_type": "stream",
          "name": "stdout",
          "text": [
            "2/2 [==============================] - 0s 5ms/step\n"
          ]
        },
        {
          "output_type": "execute_result",
          "data": {
            "text/plain": [
              "<matplotlib.legend.Legend at 0x7f1a6f36a0e0>"
            ]
          },
          "metadata": {},
          "execution_count": 25
        },
        {
          "output_type": "display_data",
          "data": {
            "text/plain": [
              "<Figure size 640x480 with 1 Axes>"
            ],
            "image/png": "[encoded data removed]"
          },
          "metadata": {}
        }
      ]
    },
    {
      "cell_type": "markdown",
      "source": [
        "it shows the result of our validation sector of dataset"
      ],
      "metadata": {
        "id": "-0E84cJQJrb_"
      }
    },
    {
      "cell_type": "code",
      "source": [
        "test_predictions = model.predict(X_test).flatten()\n",
        "\n",
        "plt.plot(dates_test, test_predictions)\n",
        "plt.plot(dates_test, y_test)\n",
        "plt.legend(['Testing Predictions', 'Testing Observations'])"
      ],
      "metadata": {
        "colab": {
          "base_uri": "https://localhost:8080/",
          "height": 465
        },
        "id": "fiD6aqm6PEv-",
        "outputId": "4ab61382-0221-42e8-9fbd-1a132baa18a7"
      },
      "execution_count": null,
      "outputs": [
        {
          "output_type": "stream",
          "name": "stdout",
          "text": [
            "2/2 [==============================] - 0s 7ms/step\n"
          ]
        },
        {
          "output_type": "execute_result",
          "data": {
            "text/plain": [
              "<matplotlib.legend.Legend at 0x7f1a6f351750>"
            ]
          },
          "metadata": {},
          "execution_count": 26
        },
        {
          "output_type": "display_data",
          "data": {
            "text/plain": [
              "<Figure size 640x480 with 1 Axes>"
            ],
            "image/png": "[encoded data removed]"
          },
          "metadata": {}
        }
      ]
    },
    {
      "cell_type": "markdown",
      "source": [
        "it shows result of testing dataset"
      ],
      "metadata": {
        "id": "vPhsZCu8J1cJ"
      }
    },
    {
      "cell_type": "code",
      "source": [
        "plt.plot(dates_train, train_predictions)\n",
        "plt.plot(dates_train, y_train)\n",
        "plt.plot(dates_val, val_predictions)\n",
        "plt.plot(dates_val, y_val)\n",
        "plt.plot(dates_test, test_predictions)\n",
        "plt.plot(dates_test, y_test)\n",
        "plt.legend(['Training Predictions', \n",
        "            'Training Observations',\n",
        "            'Validation Predictions', \n",
        "            'Validation Observations',\n",
        "            'Testing Predictions', \n",
        "            'Testing Observations'])"
      ],
      "metadata": {
        "colab": {
          "base_uri": "https://localhost:8080/",
          "height": 447
        },
        "id": "M45bEZs-PPe_",
        "outputId": "ee3b3387-686c-4afa-fb9d-d3186695800e"
      },
      "execution_count": null,
      "outputs": [
        {
          "output_type": "execute_result",
          "data": {
            "text/plain": [
              "<matplotlib.legend.Legend at 0x7f1a6f242020>"
            ]
          },
          "metadata": {},
          "execution_count": 27
        },
        {
          "output_type": "display_data",
          "data": {
            "text/plain": [
              "<Figure size 640x480 with 1 Axes>"
            ],
            "image/png": "[encoded data removed]"
          },
          "metadata": {}
        }
      ]
    },
    {
      "cell_type": "code",
      "source": [
        "recursive_predictions = []\n",
        "recursive_dates = np.concatenate([dates_val, dates_test])\n",
        "\n",
        "for target_date in recursive_dates:\n",
        "  last_window = deepcopy(X_train[-1])\n",
        "  next_prediction = model.predict(np.array([last_window])).flatten()\n",
        "  recursive_predictions.append(next_prediction)\n",
        "  last_window[-1] = next_prediction"
      ],
      "metadata": {
        "colab": {
          "base_uri": "https://localhost:8080/"
        },
        "id": "hbo0YqxyPioU",
        "outputId": "579a5b55-57f9-4cfa-a1f6-b4baa97521d5"
      },
      "execution_count": null,
      "outputs": [
        {
          "output_type": "stream",
          "name": "stdout",
          "text": [
            "1/1 [==============================] - 0s 127ms/step\n",
            "1/1 [==============================] - 0s 111ms/step\n",
            "1/1 [==============================] - 0s 47ms/step\n",
            "1/1 [==============================] - 0s 71ms/step\n",
            "1/1 [==============================] - 0s 53ms/step\n",
            "1/1 [==============================] - 0s 62ms/step\n",
            "1/1 [==============================] - 0s 55ms/step\n",
            "1/1 [==============================] - 0s 58ms/step\n",
            "1/1 [==============================] - 0s 41ms/step\n",
            "1/1 [==============================] - 0s 104ms/step\n",
            "1/1 [==============================] - 0s 95ms/step\n",
            "1/1 [==============================] - 0s 28ms/step\n",
            "1/1 [==============================] - 0s 26ms/step\n",
            "1/1 [==============================] - 0s 29ms/step\n",
            "1/1 [==============================] - 0s 31ms/step\n",
            "1/1 [==============================] - 0s 26ms/step\n",
            "1/1 [==============================] - 0s 27ms/step\n",
            "1/1 [==============================] - 0s 25ms/step\n",
            "1/1 [==============================] - 0s 24ms/step\n",
            "1/1 [==============================] - 0s 28ms/step\n",
            "1/1 [==============================] - 0s 23ms/step\n",
            "1/1 [==============================] - 0s 23ms/step\n",
            "1/1 [==============================] - 0s 25ms/step\n",
            "1/1 [==============================] - 0s 24ms/step\n",
            "1/1 [==============================] - 0s 23ms/step\n",
            "1/1 [==============================] - 0s 24ms/step\n",
            "1/1 [==============================] - 0s 23ms/step\n",
            "1/1 [==============================] - 0s 24ms/step\n",
            "1/1 [==============================] - 0s 32ms/step\n",
            "1/1 [==============================] - 0s 29ms/step\n",
            "1/1 [==============================] - 0s 23ms/step\n",
            "1/1 [==============================] - 0s 24ms/step\n",
            "1/1 [==============================] - 0s 23ms/step\n",
            "1/1 [==============================] - 0s 24ms/step\n",
            "1/1 [==============================] - 0s 23ms/step\n",
            "1/1 [==============================] - 0s 24ms/step\n",
            "1/1 [==============================] - 0s 24ms/step\n",
            "1/1 [==============================] - 0s 23ms/step\n",
            "1/1 [==============================] - 0s 24ms/step\n",
            "1/1 [==============================] - 0s 23ms/step\n",
            "1/1 [==============================] - 0s 28ms/step\n",
            "1/1 [==============================] - 0s 32ms/step\n",
            "1/1 [==============================] - 0s 23ms/step\n",
            "1/1 [==============================] - 0s 26ms/step\n",
            "1/1 [==============================] - 0s 23ms/step\n",
            "1/1 [==============================] - 0s 23ms/step\n",
            "1/1 [==============================] - 0s 25ms/step\n",
            "1/1 [==============================] - 0s 25ms/step\n",
            "1/1 [==============================] - 0s 26ms/step\n",
            "1/1 [==============================] - 0s 28ms/step\n",
            "1/1 [==============================] - 0s 30ms/step\n",
            "1/1 [==============================] - 0s 25ms/step\n",
            "1/1 [==============================] - 0s 25ms/step\n",
            "1/1 [==============================] - 0s 24ms/step\n",
            "1/1 [==============================] - 0s 34ms/step\n",
            "1/1 [==============================] - 0s 28ms/step\n",
            "1/1 [==============================] - 0s 24ms/step\n",
            "1/1 [==============================] - 0s 25ms/step\n",
            "1/1 [==============================] - 0s 27ms/step\n",
            "1/1 [==============================] - 0s 29ms/step\n",
            "1/1 [==============================] - 0s 26ms/step\n",
            "1/1 [==============================] - 0s 24ms/step\n",
            "1/1 [==============================] - 0s 26ms/step\n",
            "1/1 [==============================] - 0s 25ms/step\n",
            "1/1 [==============================] - 0s 24ms/step\n",
            "1/1 [==============================] - 0s 23ms/step\n",
            "1/1 [==============================] - 0s 28ms/step\n",
            "1/1 [==============================] - 0s 30ms/step\n",
            "1/1 [==============================] - 0s 27ms/step\n",
            "1/1 [==============================] - 0s 24ms/step\n",
            "1/1 [==============================] - 0s 27ms/step\n",
            "1/1 [==============================] - 0s 24ms/step\n",
            "1/1 [==============================] - 0s 23ms/step\n",
            "1/1 [==============================] - 0s 25ms/step\n",
            "1/1 [==============================] - 0s 25ms/step\n",
            "1/1 [==============================] - 0s 26ms/step\n",
            "1/1 [==============================] - 0s 28ms/step\n",
            "1/1 [==============================] - 0s 27ms/step\n",
            "1/1 [==============================] - 0s 25ms/step\n",
            "1/1 [==============================] - 0s 26ms/step\n",
            "1/1 [==============================] - 0s 24ms/step\n",
            "1/1 [==============================] - 0s 24ms/step\n",
            "1/1 [==============================] - 0s 26ms/step\n",
            "1/1 [==============================] - 0s 25ms/step\n",
            "1/1 [==============================] - 0s 26ms/step\n",
            "1/1 [==============================] - 0s 28ms/step\n",
            "1/1 [==============================] - 0s 28ms/step\n",
            "1/1 [==============================] - 0s 27ms/step\n",
            "1/1 [==============================] - 0s 27ms/step\n",
            "1/1 [==============================] - 0s 24ms/step\n",
            "1/1 [==============================] - 0s 26ms/step\n",
            "1/1 [==============================] - 0s 28ms/step\n",
            "1/1 [==============================] - 0s 24ms/step\n",
            "1/1 [==============================] - 0s 30ms/step\n",
            "1/1 [==============================] - 0s 32ms/step\n",
            "1/1 [==============================] - 0s 27ms/step\n",
            "1/1 [==============================] - 0s 26ms/step\n",
            "1/1 [==============================] - 0s 35ms/step\n",
            "1/1 [==============================] - 0s 26ms/step\n",
            "1/1 [==============================] - 0s 24ms/step\n",
            "1/1 [==============================] - 0s 25ms/step\n",
            "1/1 [==============================] - 0s 24ms/step\n",
            "1/1 [==============================] - 0s 25ms/step\n",
            "1/1 [==============================] - 0s 30ms/step\n",
            "1/1 [==============================] - 0s 25ms/step\n",
            "1/1 [==============================] - 0s 27ms/step\n",
            "1/1 [==============================] - 0s 28ms/step\n",
            "1/1 [==============================] - 0s 25ms/step\n",
            "1/1 [==============================] - 0s 24ms/step\n"
          ]
        }
      ]
    },
    {
      "cell_type": "markdown",
      "source": [
        "Recursive prediction is used for prediction for future values\n"
      ],
      "metadata": {
        "id": "TUrEMOAcFqxx"
      }
    },
    {
      "cell_type": "markdown",
      "source": [
        "# Final Result"
      ],
      "metadata": {
        "id": "Qf2T0dw3T_ep"
      }
    },
    {
      "cell_type": "code",
      "source": [
        "plt.plot(dates_train, train_predictions)\n",
        "plt.plot(dates_train, y_train)\n",
        "plt.plot(dates_val, val_predictions)\n",
        "plt.plot(dates_val, y_val)\n",
        "plt.plot(dates_test, test_predictions)\n",
        "plt.plot(dates_test, y_test)\n",
        "plt.plot(recursive_dates, recursive_predictions)\n",
        "plt.legend(['Training Predictions', \n",
        "            'Training Observations',\n",
        "            'Validation Predictions', \n",
        "            'Validation Observations',\n",
        "            'Testing Predictions', \n",
        "            'Testing Observations',\n",
        "            'Recursive Predictions'])"
      ],
      "metadata": {
        "colab": {
          "base_uri": "https://localhost:8080/",
          "height": 447
        },
        "id": "dl8k-DKyPohx",
        "outputId": "7e525e91-2664-4fef-8c00-9bd2141fe02b"
      },
      "execution_count": null,
      "outputs": [
        {
          "output_type": "execute_result",
          "data": {
            "text/plain": [
              "<matplotlib.legend.Legend at 0x7f1a6ef49150>"
            ]
          },
          "metadata": {},
          "execution_count": 29
        },
        {
          "output_type": "display_data",
          "data": {
            "text/plain": [
              "<Figure size 640x480 with 1 Axes>"
            ],
            "image/png": "[encoded data removed]"
          },
          "metadata": {}
        }
      ]
    },
    {
      "cell_type": "markdown",
      "source": [
        "it shows the recursive prediction about our data"
      ],
      "metadata": {
        "id": "ZnHQarPpKIC-"
      }
    }
  ]
}